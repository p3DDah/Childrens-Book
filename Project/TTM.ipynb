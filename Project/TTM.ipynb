{
 "cells": [
  {
   "cell_type": "code",
   "execution_count": 1,
   "id": "7af77febca7e7b3",
   "metadata": {
    "collapsed": true,
    "ExecuteTime": {
     "end_time": "2023-11-08T11:53:19.499199100Z",
     "start_time": "2023-11-08T11:52:56.617484100Z"
    }
   },
   "outputs": [
    {
     "name": "stderr",
     "output_type": "stream",
     "text": [
      "C:\\Users\\phili\\miniconda3\\envs\\Childrens-Book\\Lib\\site-packages\\pydub\\utils.py:170: RuntimeWarning: Couldn't find ffmpeg or avconv - defaulting to ffmpeg, but may not work\n",
      "  warn(\"Couldn't find ffmpeg or avconv - defaulting to ffmpeg, but may not work\", RuntimeWarning)\n",
      "text_encoder\\model.safetensors not found\n"
     ]
    },
    {
     "data": {
      "text/plain": "Loading pipeline components...:   0%|          | 0/11 [00:00<?, ?it/s]",
      "application/vnd.jupyter.widget-view+json": {
       "version_major": 2,
       "version_minor": 0,
       "model_id": "8b965ca105504abbbb9fc392d733cc9b"
      }
     },
     "metadata": {},
     "output_type": "display_data"
    }
   ],
   "source": [
    "from diffusers import AudioLDM2Pipeline\n",
    "from pydub import AudioSegment\n",
    "import torch\n",
    "import scipy\n",
    "import simpleaudio as sa\n",
    "import numpy as np\n",
    "# https://github.com/haoheliu/AudioLDM2\n",
    "\n",
    "repo_id = \"cvssp/audioldm2\"\n",
    "pipe = AudioLDM2Pipeline.from_pretrained(repo_id, torch_dtype=torch.float16)\n",
    "pipe = pipe.to(\"cuda\")"
   ]
  },
  {
   "cell_type": "code",
   "execution_count": null,
   "outputs": [
    {
     "data": {
      "text/plain": "  0%|          | 0/200 [00:00<?, ?it/s]",
      "application/vnd.jupyter.widget-view+json": {
       "version_major": 2,
       "version_minor": 0,
       "model_id": "64398f972c874134a9d1f3398a4ead5c"
      }
     },
     "metadata": {},
     "output_type": "display_data"
    }
   ],
   "source": [
    "prompt = \"\"\"Create a piece of music that embodies harmony and tranquility. It should feature a blend of classical instruments like the violin, cello, and piano, interweaving their melodies in a seamless and soothing manner. The composition should evoke the serene flow of a gentle river, with each note and chord progression naturally following the previous, creating an auditory tapestry of peace and balance. The dynamics should be soft and the tempo steady, allowing the listener to be enveloped in a soundscape of pure harmony.\"\"\"\n",
    "audio = pipe(prompt, num_inference_steps=200, audio_length_in_s=240.0).audios[0]"
   ],
   "metadata": {
    "collapsed": false,
    "is_executing": true,
    "ExecuteTime": {
     "start_time": "2023-11-08T11:53:19.509205700Z"
    }
   },
   "id": "e08e9ec637ceeec4"
  },
  {
   "cell_type": "code",
   "execution_count": null,
   "outputs": [],
   "source": [
    "audio_int = np.int16(audio / np.max(np.abs(audio)) * 32767)\n",
    "scipy.io.wavfile.write(\"techno.wav\", rate=16000, data=audio_int)"
   ],
   "metadata": {
    "collapsed": false,
    "is_executing": true
   },
   "id": "initial_id"
  },
  {
   "cell_type": "code",
   "execution_count": null,
   "outputs": [],
   "source": [
    "# Load your existing WAV file\n",
    "audio = AudioSegment.from_file(\"techno.wav\")\n",
    "\n",
    "# Define the duration of the fade-in and fade-out in milliseconds\n",
    "fade_in_duration = 1000  # 1 second\n",
    "fade_out_duration = 1000  # 1 second\n",
    "\n",
    "# Apply fade-in and fade-out\n",
    "audio_with_fades = audio.fade_in(fade_in_duration).fade_out(fade_out_duration)\n",
    "\n",
    "# Export the result\n",
    "audio_with_fades.export(\"techno_fade.wav\", format=\"wav\")"
   ],
   "metadata": {
    "collapsed": false,
    "is_executing": true
   },
   "id": "3ba93ed3f44e552a"
  },
  {
   "cell_type": "code",
   "execution_count": null,
   "outputs": [],
   "source": [
    "# Laden Sie die WAV-Datei\n",
    "wave_obj = sa.WaveObject.from_wave_file(\"techno_fade.wav\")\n",
    "\n",
    "# Spielen Sie die WAV-Datei ab\n",
    "play_obj = wave_obj.play()\n",
    "\n",
    "# Warten Sie, bis die WAV-Datei fertig abgespielt ist\n",
    "play_obj.wait_done()"
   ],
   "metadata": {
    "collapsed": false,
    "is_executing": true
   },
   "id": "e7eed92d0c52a6f"
  },
  {
   "cell_type": "code",
   "execution_count": null,
   "outputs": [],
   "source": [],
   "metadata": {
    "collapsed": false,
    "is_executing": true
   },
   "id": "b323fb80077c4973"
  }
 ],
 "metadata": {
  "kernelspec": {
   "display_name": "Python 3",
   "language": "python",
   "name": "python3"
  },
  "language_info": {
   "codemirror_mode": {
    "name": "ipython",
    "version": 2
   },
   "file_extension": ".py",
   "mimetype": "text/x-python",
   "name": "python",
   "nbconvert_exporter": "python",
   "pygments_lexer": "ipython2",
   "version": "2.7.6"
  }
 },
 "nbformat": 4,
 "nbformat_minor": 5
}
