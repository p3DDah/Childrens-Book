{
 "cells": [
  {
   "cell_type": "code",
   "execution_count": null,
   "id": "initial_id",
   "metadata": {
    "collapsed": true
   },
   "outputs": [],
   "source": [
    "from diffusers import AudioLDM2Pipeline\n",
    "import torch\n",
    "import scipy\n",
    "# https://github.com/haoheliu/AudioLDM2\n",
    "\n",
    "repo_id = \"cvssp/audioldm2\"\n",
    "pipe = AudioLDM2Pipeline.from_pretrained(repo_id, torch_dtype=torch.float16)\n",
    "pipe = pipe.to(\"cuda\")\n",
    "\n",
    "prompt = \"A gentle, mystical melody combining traditional Korean instruments such as the gayageum and geomungo, with the soft sounds of nature, the rustling of leaves, flowing water, and a subtle, anticipatory rhythm like the beating of a young dragon's heart.\"\n",
    "audio = pipe(prompt, num_inference_steps=200, audio_length_in_s=120.0).audios[0]\n",
    "\n",
    "scipy.io.wavfile.write(\"techno.wav\", rate=16000, data=audio)"
   ]
  },
  {
   "cell_type": "code",
   "execution_count": null,
   "outputs": [],
   "source": [
    "import requests\n",
    "\n",
    "def get_supported_languages(url):\n",
    "    response = requests.get(url + \"/languages\")\n",
    "    if response.status_code == 200:\n",
    "        languages = response.json()\n",
    "        for lang in languages:\n",
    "            print(f\"Code: {lang['code']}, Name: {lang['name']}\")\n",
    "    else:\n",
    "        print(\"Fehler beim Abrufen der unterstützten Sprachen:\", response.status_code)\n",
    "\n",
    "def translate(text, source_language, target_language):\n",
    "    url = \"https://translate.argosopentech.com/translate\"\n",
    "    payload = {\n",
    "        \"q\": text,\n",
    "        \"source\": source_language,\n",
    "        \"target\": target_language,\n",
    "        \"format\": \"text\"\n",
    "    }\n",
    "    headers = {\n",
    "        \"accept\": \"application/json\",\n",
    "        \"Content-Type\": \"application/x-www-form-urlencoded\"\n",
    "    }\n",
    "    response = requests.post(url, data=payload, headers=headers)\n",
    "    if response.status_code == 200:\n",
    "        return response.json()[\"translatedText\"]\n",
    "    else:\n",
    "        print(\"Fehler bei der Übersetzung:\", response.status_code)\n",
    "        return None\n",
    "\n",
    "# Abrufen und Ausdrucken der unterstützten Sprachen\n",
    "#get_supported_languages(\"https://translate.argosopentech.com\")\n",
    "\n",
    "# Beispiel für die Übersetzung von Englisch nach Französisch\n",
    "text = \"\"\"Once upon a time, in the lush, verdant valleys of Korea, there was a hidden world where dragons still roamed the skies and walked among the blooming azaleas. This world was not known to many, but those who did know of it respected and cherished its wonders. In the heart of this world lay the tranquil Dragon Village, Guryong Maeul, where dragons of all colors and sizes lived in harmony with nature and the ancient traditions of Korean culture.\n",
    "\n",
    "In the first chapter, we meet Jinho, a young, inquisitive dragon with shimmering emerald scales. Unlike the other dragons, Jinho could not breathe fire yet, for his heart flame—the source of a dragon's fire—had not been awakened. It was a rite of passage in Guryong Maeul that each dragon must embark on a quest to discover their heart flame. As Jinho prepared for his journey, the village elders spoke of the four elements: Fire, Earth, Water, and Air. Each element was tied to Korean culture and heritage, and only by understanding these could a dragon find their true strength.\n",
    "\n",
    "The day had come for Jinho to venture out and seek his heart flame. As he spread his wings, the village elder gave him a piece of advice, \"Jinho, remember, the journey is as important as the destination. The decisions you make along the way will shape your path and the strength of your flame.\"\n",
    "\n",
    "With a determined heart, Jinho took to the skies, soaring above the Han River, where the story begins.\"\"\"\n",
    "translated_text = translate(text.replace(\"\\n\", \" \"), \"en\", \"de\")\n",
    "if translated_text is not None:\n",
    "    print(translated_text)"
   ],
   "metadata": {
    "collapsed": false
   },
   "id": "91f1e78e1941f72d"
  }
 ],
 "metadata": {
  "kernelspec": {
   "display_name": "Python 3",
   "language": "python",
   "name": "python3"
  },
  "language_info": {
   "codemirror_mode": {
    "name": "ipython",
    "version": 2
   },
   "file_extension": ".py",
   "mimetype": "text/x-python",
   "name": "python",
   "nbconvert_exporter": "python",
   "pygments_lexer": "ipython2",
   "version": "2.7.6"
  }
 },
 "nbformat": 4,
 "nbformat_minor": 5
}
