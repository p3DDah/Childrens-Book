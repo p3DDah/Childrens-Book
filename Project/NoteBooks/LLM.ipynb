{
 "cells": [
  {
   "cell_type": "code",
   "execution_count": 1,
   "metadata": {},
   "outputs": [
    {
     "name": "stdout",
     "output_type": "stream",
     "text": [
      "True\n",
      "1\n",
      "0\n",
      "<torch.cuda.device object at 0x7fe0477f0390>\n",
      "NVIDIA A100-SXM4-80GB\n",
      "12.1\n",
      "GPU 0:\n",
      "  Total Memory: 81092.56 MB\n",
      "  Allocated Memory: 0.00 MB\n",
      "  Cached Memory: 0.00 MB\n",
      "--------------------------------------------------\n",
      "tensor([1., 2.], device='cuda:0')\n"
     ]
    }
   ],
   "source": [
    "import torch\n",
    "\n",
    "print(torch.cuda.is_available())\n",
    "print(torch.cuda.device_count())\n",
    "print(torch.cuda.current_device())\n",
    "print(torch.cuda.device(0))\n",
    "print(torch.cuda.get_device_name(0))\n",
    "print(torch.version.cuda)\n",
    "\n",
    "# Check if CUDA is available\n",
    "if torch.cuda.is_available():\n",
    "    # Get the number of GPUs available\n",
    "    num_gpus = torch.cuda.device_count()\n",
    "\n",
    "    for i in range(num_gpus):\n",
    "        print(f\"GPU {i}:\")\n",
    "        gpu_properties = torch.cuda.get_device_properties(i)\n",
    "\n",
    "        # Total memory\n",
    "        total_memory = gpu_properties.total_memory / 1024**2  # Convert to MB\n",
    "        print(f\"  Total Memory: {total_memory:.2f} MB\")\n",
    "\n",
    "        # Current memory usage\n",
    "        allocated_memory = torch.cuda.memory_allocated(i) / 1024**2  # Convert to MB\n",
    "        print(f\"  Allocated Memory: {allocated_memory:.2f} MB\")\n",
    "\n",
    "        # Cached memory\n",
    "        cached_memory = torch.cuda.memory_reserved(i) / 1024**2  # Convert to MB\n",
    "        print(f\"  Cached Memory: {cached_memory:.2f} MB\")\n",
    "\n",
    "        print(\"--------------------------------------------------\")\n",
    "else:\n",
    "    print(\"CUDA is not available. No GPU detected.\")\n",
    "\n",
    "print(torch.tensor([1.0, 2.0], device='cuda'))"
   ]
  },
  {
   "cell_type": "code",
   "execution_count": 2,
   "metadata": {},
   "outputs": [
    {
     "name": "stdout",
     "output_type": "stream",
     "text": [
      "Fri Dec  1 19:32:12 2023       \n",
      "+---------------------------------------------------------------------------------------+\n",
      "| NVIDIA-SMI 530.30.02              Driver Version: 530.30.02    CUDA Version: 12.1     |\n",
      "|-----------------------------------------+----------------------+----------------------+\n",
      "| GPU  Name                  Persistence-M| Bus-Id        Disp.A | Volatile Uncorr. ECC |\n",
      "| Fan  Temp  Perf            Pwr:Usage/Cap|         Memory-Usage | GPU-Util  Compute M. |\n",
      "|                                         |                      |               MIG M. |\n",
      "|=========================================+======================+======================|\n",
      "|   0  NVIDIA A100-SXM4-80GB           On | 00000000:46:00.0 Off |                    0 |\n",
      "| N/A   29C    P0               67W / 400W|    877MiB / 81920MiB |     13%      Default |\n",
      "|                                         |                      |             Disabled |\n",
      "+-----------------------------------------+----------------------+----------------------+\n",
      "                                                                                         \n",
      "+---------------------------------------------------------------------------------------+\n",
      "| Processes:                                                                            |\n",
      "|  GPU   GI   CI        PID   Type   Process name                            GPU Memory |\n",
      "|        ID   ID                                                             Usage      |\n",
      "|=======================================================================================|\n",
      "|    0   N/A  N/A   1085562      C   ...lipp/anaconda3/envs/book/bin/python      874MiB |\n",
      "+---------------------------------------------------------------------------------------+\n",
      "nvcc: NVIDIA (R) Cuda compiler driver\n",
      "Copyright (c) 2005-2022 NVIDIA Corporation\n",
      "Built on Wed_Sep_21_10:33:58_PDT_2022\n",
      "Cuda compilation tools, release 11.8, V11.8.89\n",
      "Build cuda_11.8.r11.8/compiler.31833905_0\n"
     ]
    }
   ],
   "source": [
    "!nvidia-smi\n",
    "!nvcc --version"
   ]
  },
  {
   "cell_type": "code",
   "execution_count": 3,
   "id": "81693ecdc88dbd36",
   "metadata": {
    "ExecuteTime": {
     "end_time": "2023-11-19T12:49:17.526365300Z",
     "start_time": "2023-11-19T12:49:07.610460100Z"
    }
   },
   "outputs": [],
   "source": [
    "import torch\n",
    "\n",
    "from textwrap import fill\n",
    "from IPython.display import Markdown\n",
    "\n",
    "from langchain import PromptTemplate\n",
    "from langchain.chains import ConversationChain\n",
    "from langchain import HuggingFacePipeline\n",
    "\n",
    "from transformers import AutoModelForCausalLM, AutoTokenizer, GenerationConfig, pipeline\n",
    "\n",
    "import warnings\n",
    "warnings.filterwarnings('ignore')\n",
    "NUM_CHAPTERS = 10\n",
    "MAIN_NAME = \"Klaus\""
   ]
  },
  {
   "cell_type": "code",
   "execution_count": 4,
   "id": "3eff7472620e5a9a",
   "metadata": {
    "ExecuteTime": {
     "end_time": "2023-11-19T12:50:21.995539600Z",
     "start_time": "2023-11-19T12:49:17.526365300Z"
    }
   },
   "outputs": [
    {
     "data": {
      "application/vnd.jupyter.widget-view+json": {
       "model_id": "b12f6936899741948c71062398430816",
       "version_major": 2,
       "version_minor": 0
      },
      "text/plain": [
       "Loading checkpoint shards:   0%|          | 0/2 [00:00<?, ?it/s]"
      ]
     },
     "metadata": {},
     "output_type": "display_data"
    }
   ],
   "source": [
    "MODEL_NAME = 'Intel/neural-chat-7b-v3-1'\n",
    "\n",
    "tokenizer = AutoTokenizer.from_pretrained(MODEL_NAME, use_fast=True, trust_remote_code=True)\n",
    "\n",
    "model = AutoModelForCausalLM.from_pretrained(\n",
    "    MODEL_NAME, torch_dtype=torch.float16,\n",
    "    use_flash_attention_2=False,\n",
    "    trust_remote_code=True,\n",
    "    device_map=\"auto\",\n",
    ")"
   ]
  },
  {
   "cell_type": "code",
   "execution_count": 5,
   "id": "1c24c84de4e247c8",
   "metadata": {
    "ExecuteTime": {
     "end_time": "2023-11-19T12:50:22.259325800Z",
     "start_time": "2023-11-19T12:50:22.011652Z"
    }
   },
   "outputs": [],
   "source": [
    "generation_config = GenerationConfig.from_pretrained(MODEL_NAME)\n",
    "generation_config.max_new_tokens = 5000\n",
    "#generation_config.min_new_tokens = -1\n",
    "#generation_config.max_length = 10000\n",
    "#generation_config.top_p = 0.9\n",
    "#generation_config.top_k = 50\n",
    "#generation_config.do_sample = True\n",
    "#generation_config.temperature = 0.7\n",
    "generation_config.repetition_penalty = 1.3\n",
    "\n",
    "pipeline = pipeline(\n",
    "    \"text-generation\",\n",
    "    model=model,\n",
    "    tokenizer=tokenizer,\n",
    "    return_full_text=True,\n",
    "    generation_config=generation_config,\n",
    ")\n",
    "pipeline.model.config.pad_token_id = pipeline.model.config.eos_token_id"
   ]
  },
  {
   "cell_type": "code",
   "execution_count": 6,
   "id": "cef1910676d2f256",
   "metadata": {
    "ExecuteTime": {
     "end_time": "2023-11-19T12:50:22.275185Z",
     "start_time": "2023-11-19T12:50:22.259325800Z"
    },
    "collapsed": false
   },
   "outputs": [],
   "source": [
    "llm = HuggingFacePipeline(\n",
    "    pipeline=pipeline,\n",
    "    )"
   ]
  },
  {
   "cell_type": "code",
   "execution_count": 7,
   "metadata": {},
   "outputs": [],
   "source": [
    "longchat_template = f\"\"\"### System: \n",
    "Objective: Create a {NUM_CHAPTERS}-chapter children's book set in a magical Korean world with dragons. Each 1000-word chapter features a unique, open-ended adventure.\n",
    "AI's Role:\n",
    "Craft engaging, informative stories for young readers.\n",
    "Use a friendly tone, rich descriptions, diverse characters.\n",
    "Focus on positive themes like friendship and learning.\n",
    "Mix in humor and educational elements.\n",
    "Build resilience and empathy through challenges.\n",
    "End stories with hope or lessons, avoiding negativity.\n",
    "Process: Write one detailed chapter at a time, awaiting user prompts for subsequent chapters.\n",
    "\n",
    "Prologue: The Quest for Harmony in Korea's Enchanted Realms\n",
    "\n",
    "In a realm where ancient mystique and modern marvels intertwine, an epic saga awaits to be told. Here, in the heart of Korea's enchanted lands, a world brimming with magic and mystery beckons. A world where dragons trace majestic arcs across the sky and mythical beings whisper the secrets of the ages. \n",
    "In this realm of wonder, two heroes are predestined to unite: {MAIN_NAME}, the resplendent phoenix from the soaring cliffs of Pohang, a creature of fire and lore, and Nubzuki, the inquisitive platfish from the tranquil waters of Daejeon, wise and whimsical.\n",
    "Their journey, a tapestry of peril and enlightenment, will sweep them through realms where ancient trees murmur forgotten tales, across vast meadows echoing with celestial music, and into vibrant cities where history and future meld in perfect harmony.\n",
    "This odyssey, however, is far from a mere escapade; it's a quest of discovery, resilience, and kinship. Through trials and tribulations, {MAIN_NAME} and Nubzuki will delve deep into the heart of Korean culture, encountering its rich traditions, arts, and ancient wisdoms, each step a lesson in unity and strength.\n",
    "But lurking in the shadows is a darkness, a force that seeks to unbalance this world of wonder. Our heroes, {MAIN_NAME} and Nubzuki, must stand as one against this burgeoning chaos. In their quest, they will learn that true might blossoms from togetherness and that courage can be found in the most unexpected places.\n",
    "So, brace yourselves, dear readers, for an adventure beyond compare. Soar with {MAIN_NAME} into realms uncharted, dive with Nubzuki into the depths of the extraordinary. Together, we will traverse a world where Korean lore comes alive, where each twist and turn is a doorway to the extraordinary.\n",
    "Prepare to embark on \"The Quest for Harmony in Korea's Enchanted Realms,\" a narrative pulsating with magic, brimming with lessons, and shimmering with the light of enduring hope.\n",
    "\"\"\"\n",
    "longchat_template.format(MAIN_NAME = MAIN_NAME, NUM_CHAPTERS = NUM_CHAPTERS)\n",
    "longchat_template += \"\"\"\n",
    "{history}\n",
    "### User: \n",
    "{input}\n",
    "### Assistant:\n",
    "\"\"\""
   ]
  },
  {
   "cell_type": "code",
   "execution_count": 8,
   "id": "642d1ee3c4c39aa5",
   "metadata": {
    "ExecuteTime": {
     "end_time": "2023-11-19T12:50:22.333111700Z",
     "start_time": "2023-11-19T12:50:22.294631600Z"
    }
   },
   "outputs": [],
   "source": [
    "longchat_prompt_template = PromptTemplate(\n",
    "    input_variables=[\"history\", \"input\"], template=longchat_template\n",
    ")"
   ]
  },
  {
   "cell_type": "code",
   "execution_count": 9,
   "id": "20dbf513ccc839a1",
   "metadata": {
    "ExecuteTime": {
     "end_time": "2023-11-19T12:50:22.355906200Z",
     "start_time": "2023-11-19T12:50:22.306641500Z"
    }
   },
   "outputs": [],
   "source": [
    "from langchain.chains.conversation.memory import ConversationBufferMemory\n",
    "\n",
    "conversation_buf = ConversationChain(\n",
    "    llm=llm,\n",
    "    memory=ConversationBufferMemory(ai_prefix=\"Assistant\", human_prefix=\"User\"),\n",
    "    prompt=longchat_prompt_template,\n",
    ")"
   ]
  },
  {
   "cell_type": "code",
   "execution_count": 10,
   "id": "c45657100ddae421",
   "metadata": {
    "ExecuteTime": {
     "end_time": "2023-11-19T12:50:27.760905400Z",
     "start_time": "2023-11-19T12:50:22.341854900Z"
    }
   },
   "outputs": [
    {
     "name": "stderr",
     "output_type": "stream",
     "text": [
      "Setting `pad_token_id` to `eos_token_id`:2 for open-end generation.\n"
     ]
    },
    {
     "name": "stdout",
     "output_type": "stream",
     "text": [
      " Chapter One: Finding Friendships Amidst Fireflies\n",
      "\n",
      "Klaus was not always aware he had wings. He thought his life revolved around nothing more than being a guardian of the sacred Phoenix Flame - a flame which protected all living creatures within these mysterious lands. His days were spent watching over the glowing orb, ensuring no harm came near it. But little did he know, there existed another world outside those walls, waiting just beyond the horizon. It would take meeting someone very special before he could truly understand what lay ahead...\n",
      "\n",
      "Nearby, nestled among verdant hillsides and serene forests, lived Nubzuki – a curious Platypus who loved exploring every nook and cranny of her home. She adored discovering new things about nature, especially when she stumbled upon something unusual. Her favorite pastime involved observing how different animals interacted with one another, fascinated by the intricacies of friendships formed between species. Little did she realize, though, that soon she too would find herself entwined in a tale much greater than anything she ever imagined.\n",
      "\n",
      "One warm summer evening, while Klaus sat vigilantly beside the Phoenix Flame, a sudden gust of wind blew out the flames momentarily. As he rushed back towards the source, he noticed a peculiar glow coming from afar. Curious, he followed the trail leading him deeper into unknown territory. Meanwhile, Nubzuki wandered along the riverbank, admiring the dancing fireflies above her head. Suddenly, she felt a gentle tugging sensation pulling her downwards. To her surprise, she discovered tiny strings attached to her feet, connecting her to hundreds of twinkling lights floating high up in the air. With excitement coursing through her veins, she began to float upward alongside the fireflies.\n",
      "\n",
      "As fate would have it, both Klaus and Nubzuki ended up crossing paths amidst the dazzling display of luminescent insects. They gazed at each other wide-eyed, unsure if they should feel fearful or excited. However, curiosity got the better of them, and they decided to approach cautiously. Upon closer inspection, they realized neither posed any threat to the other. Instead, they shared a mutual appreciation for beauty and adventure. And thus, a bond was born under the stars, illuminated by thousands of flickering firefly lanterns.\n"
     ]
    }
   ],
   "source": [
    "print(conversation_buf(\"Write now only the first chapter!\")[\"response\"])"
   ]
  },
  {
   "cell_type": "code",
   "execution_count": 11,
   "id": "248c8ee1e887a32b",
   "metadata": {
    "ExecuteTime": {
     "end_time": "2023-11-19T12:50:27.773891800Z",
     "start_time": "2023-11-19T12:50:27.773891800Z"
    }
   },
   "outputs": [
    {
     "name": "stderr",
     "output_type": "stream",
     "text": [
      "Setting `pad_token_id` to `eos_token_id`:2 for open-end generation.\n"
     ]
    },
    {
     "name": "stdout",
     "output_type": "stream",
     "text": [
      " Option 1 (Challenge Acceptance): After spending some time getting acquainted, Klaus shares his responsibility as a protector of the Phoenix Flame. Impressed by his dedication, Nubzuki offers to help safeguard the precious treasure. This marks the beginning of their partnership, filled with adventures and camaraderie.\n",
      "\n",
      "Option 2 (Uncovering Secrets): While flying amongst the fireflies, our duo stumbles upon a hidden cave containing artifacts related to long lost legends. Excitedly, they decide to investigate further, hoping to unlock mysteries surrounding the origins of their respective worlds.\n",
      "\n",
      "Option 3 (Encountering New Friends): During their exploration, Klaus and Nubzuki meet various fantastical creatures such as fairy folk, dragon hatchlings, and even a group of talking plants. These encounters lead to exciting collaborations and lifelong bonds, expanding their circle of friends throughout the land.\n",
      "\n",
      "Option 4 (Facing Dark Forces): Unbeknownst to them, dark forces seek to disrupt the balance of power in the kingdom. When strange occurrences begin affecting the natural order, Klaus and Nubzuki join hands once again to confront evil and restore peace to their beloved homeland.\n"
     ]
    }
   ],
   "source": [
    "print(conversation_buf(f\"Create now 4 [1,2,3,4] decisions how the story could continue.\")[\"response\"])"
   ]
  },
  {
   "cell_type": "code",
   "execution_count": 12,
   "metadata": {},
   "outputs": [
    {
     "name": "stderr",
     "output_type": "stream",
     "text": [
      "Setting `pad_token_id` to `eos_token_id`:2 for open-end generation.\n"
     ]
    },
    {
     "name": "stdout",
     "output_type": "stream",
     "text": [
      "Decision: 2\n"
     ]
    },
    {
     "name": "stderr",
     "output_type": "stream",
     "text": [
      "Setting `pad_token_id` to `eos_token_id`:2 for open-end generation.\n"
     ]
    },
    {
     "name": "stdout",
     "output_type": "stream",
     "text": [
      " Chapter Two: Into the Depths of Mystery\n",
      "\n",
      "With renewed determination after sharing their individual responsibilities, Klaus and Nubzuki ventured forth into unexplored territories. Their eyes sparkled with anticipation as they entered the secret chamber concealed behind the waterfall. Inside, they encountered a breathtaking sight—a collection of relics dating back centuries ago, preserved beneath layers of dust and cobwebs. Among these treasures stood a magnificent statue depicting a winged figure holding aloft a fiery globe. Its presence seemed familiar yet elusive, stirring memories buried deep inside their hearts.\n",
      "\n",
      "Curiosity piqued, they carefully examined the statuesque form, tracing the etched symbols carved onto its surface. Gradually, they deciphered cryptic messages hinting toward a powerful connection between the Phoenix Flame and the legendary Dragon King. Could this be the key to understanding why they crossed paths? Was it destiny that brought them together?\n",
      "\n",
      "Excitement surged through their bodies as they continued to explore the cavernous room, finding themselves surrounded by paintings illustrating scenes of battles fought eons ago. Some depicted fierce warriors battling monsters, others showed armies marching triumphantly into battlefields. Yet, none held quite the same significance as the image of a great phoenix rising from the ashes, accompanied by a regal dragon bearing a flaming sword.\n",
      "\n",
      "A sense of urgency gripped their souls as they recognized the importance of their mission. If the prophecy foretold the union of the Phoenix and the Dragon, then perhaps they possessed the ability to bring balance and harmony to their world. Determination fueled their steps forward, guiding them through labyrinthine passages until finally reaching a grand hall lined with towering pillars supporting a massive ceiling painted with vivid images of the cosmos.\n",
      "\n",
      "There, standing tall and proud, rested a golden throne decorated with intricate designs reminiscent of both the Phoenix and the Dragon. An overwhelming feeling washed over them, confirming their purpose and strengthening their resolve. For here, in the heart of this wondrous place, they knew they needed to face whatever challenge may lie ahead.\n",
      "%%%%%%%%%%%%%%%%%%%%%%%%%%%%%%%\n",
      " Option 1 (Seeking Guidance): Feeling overwhelmed but determined, Klaus and Nubzuki search for guidance from the spirits of their ancestors. By seeking advice from those who walked similar pathways, they gain valuable insights into navigating the complexities of their roles and responsibilities.\n",
      "\n",
      "Option 2 (Confronting Obstacles): Along their journey, they come across obstacle courses designed to test their skills and abilities. Overcoming these challenges helps build trust and confidence in their growing alliance, preparing them for the tasks ahead.\n",
      "\n",
      "Option 3 (Discovery of Power Within): Throughout their travels, they witness acts of kindness and bravery performed by ordinary people, inspiring them to embrace their own inner strengths and potential. Empowered by this realization, they become ready to tackle adversaries threatening their world.\n",
      "\n",
      "Option 4 (Forming Alliances): Recognizing the need for additional support, Klaus and Nubzuki reach out to fellow adventurers and allies, forming strong connections based on respect, loyalty, and teamwork. United, they prepare to face the impending danger looming over their beautiful homeland.\n"
     ]
    }
   ],
   "source": [
    "import random\n",
    "random.seed()\n",
    "num_dec = 4  # number of decisions\n",
    "\n",
    "decision = random.randint(1, num_dec)\n",
    "print(f\"Decision: {decision}\")\n",
    "print(conversation_buf(f\"Write now the 2nd chapter of {NUM_CHAPTERS} with using decision {decision}.\")[\"response\"])\n",
    "print(\"%%%%%%%%%%%%%%%%%%%%%%%%%%%%%%%\")\n",
    "print(conversation_buf(f\"Create now 4 [1,2,3,4] decisions how the story could continue.\")[\"response\"])"
   ]
  },
  {
   "cell_type": "code",
   "execution_count": 13,
   "metadata": {},
   "outputs": [
    {
     "name": "stderr",
     "output_type": "stream",
     "text": [
      "Setting `pad_token_id` to `eos_token_id`:2 for open-end generation.\n"
     ]
    },
    {
     "name": "stdout",
     "output_type": "stream",
     "text": [
      "Decision: 1\n"
     ]
    },
    {
     "name": "stderr",
     "output_type": "stream",
     "text": [
      "Setting `pad_token_id` to `eos_token_id`:2 for open-end generation.\n"
     ]
    },
    {
     "name": "stdout",
     "output_type": "stream",
     "text": [
      " Chapter Three: Whispers of Ancient Wisdom\n",
      "\n",
      "Guided by the warmth of their newly acquired knowledge, Klaus and Nubzuki sought solace in the company of elder figures whose experiences spanned generations. From the wisened sage, Kwan Yin, they learned the ways of compassionate leadership and selfless service. Understanding the value of humility, they embraced their role as protectors without losing touch with their innate humanity.\n",
      "\n",
      "From Master Lee, a skilled martial artist, they gained insight into the discipline required to master their powers. Balancing grace and agility became second nature, allowing them to navigate dangerous situations swiftly and effectively.\n",
      "\n",
      "They also met Grandmother Moon, a gifted seeress known for her profound intuition and spiritual healing practices. Learning the language of dreams allowed them to connect deeply with their subconscious minds, revealing truths otherwise obscured by everyday distractions.\n",
      "\n",
      "Throughout their training sessions, Klaus and Nubzuki grew stronger mentally, physically, and spiritually. Bonds of brotherhood and sisterhood flourished, fostering a sense of belonging and community rarely experienced during their previous lives.\n",
      "\n",
      "Together, they honed their talents and refined their instincts, becoming prepared for the challenges that lay ahead. Confident in their capabilities, they returned to the secret chamber, eager to put their newfound wisdom to use. There, they hoped to unravel the remaining riddles left untouched since the dawn of time itself.\n",
      "%%%%%%%%%%%%%%%%%%%%%%%%%%%%%%%\n",
      " Option 1 (Reuniting Lost Relics): Following the whispers of ancient wisdom, Klaus and Nubzuki locate several missing pieces of the puzzle scattered throughout the Kingdom. Reassembling these fragments brings them closer to solving the age-old conundrum, ultimately restoring balance and harmony to their world.\n",
      "\n",
      "Option 2 (Battle Against Evil Forces): As they progress, they cross paths with malevolent entities intent on destroying everything good in existence. Armed with their combined prowess, they engage in thrilling combat sequences, showcasing their growth and development as individuals and partners.\n",
      "\n",
      "Option 3 (Embracing Cultural Traditions): On their journeys, they experience traditional festivals celebrating love, joy, and gratitude. Participating in these events allows them to appreciate the diversity of cultures present in their world, reinforcing the idea that unity transcends differences.\n",
      "\n",
      "Option 4 (Triumph Over Adversity): Ultimately facing off against the sinister villain responsible for casting a shadow over their world, Klaus and Nubzuki demonstrate incredible fortitude and resourcefulness. Working together seamlessly, they overcome seemingly insurmountable odds, proving that friendship and collaboration can prevail against even the greatest threats.\n"
     ]
    }
   ],
   "source": [
    "decision = random.randint(1, num_dec)\n",
    "print(f\"Decision: {decision}\")\n",
    "print(conversation_buf(f\"Write now the 3rd chapter of {NUM_CHAPTERS} with using decision {decision}.\")[\"response\"])\n",
    "print(\"%%%%%%%%%%%%%%%%%%%%%%%%%%%%%%%\")\n",
    "print(conversation_buf(f\"Create now 4 [1,2,3,4] decisions how the story could continue.\")[\"response\"])"
   ]
  },
  {
   "cell_type": "code",
   "execution_count": 14,
   "metadata": {},
   "outputs": [
    {
     "name": "stderr",
     "output_type": "stream",
     "text": [
      "Setting `pad_token_id` to `eos_token_id`:2 for open-end generation.\n"
     ]
    },
    {
     "name": "stdout",
     "output_type": "stream",
     "text": [
      "Decision: 3\n"
     ]
    },
    {
     "name": "stderr",
     "output_type": "stream",
     "text": [
      "Setting `pad_token_id` to `eos_token_id`:2 for open-end generation.\n"
     ]
    },
    {
     "name": "stdout",
     "output_type": "stream",
     "text": [
      " Chapter Four: Celebrating Life's Wonders\n",
      "\n",
      "Having faced numerous tests and challenges, Klaus and Nubzuki emerged victorious, bringing balance and harmony back to their world. Now, they turned their attention to spreading awareness of the importance of cultural heritage and tradition. Traveling across the seven provinces, they visited temples, palaces, and villages alike, sharing stories of their remarkable journey and encouraging everyone to celebrate the uniqueness of their customs.\n",
      "\n",
      "During their visits, they witnessed firsthand the transformational impact of preserving local folklore and rituals. Children laughed and played games inspired by ancient fables, adults gathered around bonfires retelling timeless tales, and elderly citizens passed on cherished recipes handed down through countless generations. Everywhere they went, they saw communities thriving because of their commitment to maintaining their roots.\n",
      "\n",
      "At last, they reached the capital city, where they joined hands with leaders representing various ethnic groups. Standing side by side, they celebrated the rich tapestries of their collective histories, recognizing that despite their differences, they shared common values rooted in love, honor, and respect.\n",
      "\n",
      "To commemorate their achievements, Klaus and Nubzuki organized a festival unlike any seen before. Artists created elaborate displays reflecting the essence of their nation’s identity, musicians composed melodies evoking emotions of pride and unity, and chefs served dishes representative of regional cuisine. Thousands attended, reveling in the splendor of their country's multifaceted culture.\n",
      "\n",
      "And as night fell, the skies lit up with colorful fireworks, symbolizing the bright futures lying ahead for all inhabitants of the enchanting Korean realm. Hand in hand, Klaus and Nubzuki watched the spectacle unfurl, knowing full well that their legacy would live on forever, serving as inspiration for many generations to follow.\n",
      "%%%%%%%%%%%%%%%%%%%%%%%%%%%%%%%\n",
      " Option 1 (Legacy of Love): Having successfully united their peoples, Klaus and Nubzuki establish schools dedicated to teaching the next generation about the importance of cooperation, tolerance, and celebration of difference. Inspired by their example, students carry on the torch of unity, creating lasting change in their communities.\n",
      "\n",
      "Option 2 (Guardians of Peace): Returning to their original duties, Klaus continues protecting the Phoenix Flame, while Nubzuki remains devoted to helping maintain the delicate ecosystem of the riverside village. Both remain steadfast in their missions, working tirelessly to ensure safety and prosperity for all.\n",
      "\n",
      "Option 3 (Journey Beyond Horizons): Seized by wanderlust, Klaus and Nubzuki venture farther afield, visiting distant lands teeming with exotic wildlife and fascinating civilizations. Sharing their experiences with others, they inspire travelers worldwide to broaden horizons and foster global understanding.\n",
      "\n",
      "Option 4 (Eternal Bond): Years later, having grown old together, Klaus and Nubzuki look back fondly on their adventures and the indomitable spirit of their people. Though their physical forms fade away, their memory lingers on, leaving a lasting impression on anyone fortunate enough to hear their story.\n"
     ]
    }
   ],
   "source": [
    "decision = random.randint(1, num_dec)\n",
    "print(f\"Decision: {decision}\")\n",
    "print(conversation_buf(f\"Write now the 4th chapter of {NUM_CHAPTERS} with using decision {decision}.\")[\"response\"])\n",
    "print(\"%%%%%%%%%%%%%%%%%%%%%%%%%%%%%%%\")\n",
    "print(conversation_buf(f\"Create now 4 [1,2,3,4] decisions how the story could continue.\")[\"response\"])"
   ]
  },
  {
   "cell_type": "code",
   "execution_count": 15,
   "metadata": {},
   "outputs": [
    {
     "name": "stderr",
     "output_type": "stream",
     "text": [
      "Setting `pad_token_id` to `eos_token_id`:2 for open-end generation.\n"
     ]
    },
    {
     "name": "stdout",
     "output_type": "stream",
     "text": [
      "Decision: 1\n"
     ]
    },
    {
     "name": "stderr",
     "output_type": "stream",
     "text": [
      "Setting `pad_token_id` to `eos_token_id`:2 for open-end generation.\n"
     ]
    },
    {
     "name": "stdout",
     "output_type": "stream",
     "text": [
      " Chapter Five: Legacy of Love\n",
      "\n",
      "Time marches relentlessly onward, carrying Klaus and Nubzuki into the sunset years of their lives. Despite their advancing age, their passion for adventure remained undeterred. They took comfort in knowing that their efforts had laid the foundation for a harmonious society built on inclusivity and acceptance.\n",
      "\n",
      "Now, instead of focusing solely on protection and conservation, they shifted focus to education and empowerment. Establishing institutions aimed at cultivating the next generation of visionary thinkers, innovators, and dreamers, they ensured that the principles instilled in them would never die.\n",
      "\n",
      "Under their tutelage, aspiring artists explored the boundlessness of creativity, scientists probed the depths of scientific advancements, and philosophers contemplated the meaning of human existence. Students from all walks of life converged in classrooms, libraries, laboratories, and studios, exchanging ideas and challenging conventional thinking.\n",
      "\n",
      "Overseeing the transformation of their once fractured world into a haven of innovation and opportunity gave Klaus and Nubzuki immense satisfaction. Seeing the fruits of their hard work manifest in the successes of their pupils made their sacrifices worthwhile.\n",
      "\n",
      "However, as the seasons changed and the winds carried their voices to the heavens, they couldn't escape the inevitable reality of mortality. Knowing that their time on Earth was limited, they resolved to leave behind a tangible reminder of their devotion to unity and equality.\n",
      "\n",
      "Hand in hand, they crafted a monument befitting their legacy. Carved into stone, their names and faces immortalized, they wrote words that captured the essence of their journey: \"We are but two small drops in the ocean of life. Let us strive to make waves that ripple through eternity.\"\n",
      "\n",
      "Upon completion, they stepped aside, content in the knowledge that their message would resonate for millennia to come. Leaning close, they whispered softly, \"Thank you for joining my flight, thank you for lighting my way. We shall fly higher still someday.\"\n",
      "%%%%%%%%%%%%%%%%%%%%%%%%%%%%%%%\n",
      " Option 1 (Passion Ignites Change): Spreading word of their accomplishments, Klaus and Nubzuki encourage others to pursue their aspirations wholeheartedly. Emphasizing the importance of following one's dreams, they ignite a revolution of creative expression and personal fulfillment across the continent.\n",
      "\n",
      "Option 2 (Beyond Worldly Boundaries): Yearning for fresh perspectives, Klaus and Nubzuki embark on a final voyage aboard a sleek spacecraft, setting sail for the stars. Exploration becomes their ultimate calling, pushing boundaries and breaking barriers previously deemed impossible.\n",
      "\n",
      "Option 3 (Timeless Tales Transformed): Drawing inspiration from their adventures, Klaus and Nubzuki compose captivating works of literature, poetry, and song. Capturing the essence of their journey, their creations serve as a bridge linking past, present, and future generations, perpetuating the ideals of unity and love.\n",
      "\n",
      "Option 4 (Spiritual Ascension): Before departing, Klaus and Nubzuki share their wisdom with a select few disciples, entrusted with continuing their teachings and passing them on to succeeding generations. Thus begins a lineage of enlightened masters committed to promoting peace, justice, and understanding throughout the universe.\n"
     ]
    }
   ],
   "source": [
    "decision = random.randint(1, num_dec)\n",
    "print(f\"Decision: {decision}\")\n",
    "print(conversation_buf(f\"Write now the 5th chapter of {NUM_CHAPTERS} with using decision {decision}.\")[\"response\"])\n",
    "print(\"%%%%%%%%%%%%%%%%%%%%%%%%%%%%%%%\")\n",
    "print(conversation_buf(f\"Create now 4 [1,2,3,4] decisions how the story could continue.\")[\"response\"])"
   ]
  },
  {
   "cell_type": "code",
   "execution_count": 16,
   "metadata": {},
   "outputs": [
    {
     "name": "stderr",
     "output_type": "stream",
     "text": [
      "Setting `pad_token_id` to `eos_token_id`:2 for open-end generation.\n"
     ]
    },
    {
     "name": "stdout",
     "output_type": "stream",
     "text": [
      "Decision: 4\n"
     ]
    },
    {
     "name": "stderr",
     "output_type": "stream",
     "text": [
      "Setting `pad_token_id` to `eos_token_id`:2 for open-end generation.\n"
     ]
    },
    {
     "name": "stdout",
     "output_type": "stream",
     "text": [
      " Chapter Six: Spiritual Ascension\n",
      "\n",
      "After bidding farewell to their closest companions, Klaus and Nubzuki ascend into the heavens, guided by the radiant constellations overhead. Surrounded by the ethereal beauty of the galaxy, they reflected on their lives, grateful for the opportunities afforded to them.\n",
      "\n",
      "Soon, they arrived at the gates of heaven, greeted by angelic hosts welcoming them with open arms. Eager to reunite with their dearly departed family members, they traversed the pearly streets, awash with divine energy.\n",
      "\n",
      "Here, they found solace in the eternal embrace of their parents, siblings, mentors, and teachers. Laughing and crying together, they recounted cherished moments from their earthbound lives, realizing that their relationships extended far beyond the confines of flesh and blood.\n",
      "\n",
      "Eventually, they settled into their new abode, taking delight in the simple pleasures of communicating telepathically, meditating in gardens bursting with fragrant flowers, and partaking in feasts featuring culinary delights fit for gods.\n",
      "\n",
      "Yet, their desire to spread the message of unity and love burned brightly within them. Convinced that their influence stretched beyond the bounds of Heaven, they sought permission to return to Earth periodically, offering assistance wherever necessary.\n",
      "\n",
      "Gratefully granted access to the Celestial Bridge, Klaus and Nubzuki descended upon the planet, appearing whenever called upon by those in dire straits. Whether providing aid during times of crisis or simply offering encouragement, they used their gifts to uplift and guide those struggling to see the light.\n",
      "\n",
      "For decades, they traveled the length and breadth of the world, touching countless lives with their benevolence. Eventually, their energies merged with the fabric of creation, dissolving into pure consciousness. No longer constrained by corporeal limitations, they transformed into universal guides, radiating positivity and love throughout the entirety of existence.\n",
      "%%%%%%%%%%%%%%%%%%%%%%%%%%%%%%%\n",
      " Option 1 (Universal Guardianship): Continuing their mission to promote harmony and unity, Klaus and Nubzuki expand their sphere of influence to include extraterrestrial races and galactic societies. Serving as ambassadors of peace, they facilitate diplomatic relations and foster understanding between disparate civilizations.\n",
      "\n",
      "Option 2 (Interstellar Adventures): Gaining renown for their heroism and wisdom, Klaus and Nubzuki receive invitations to participate in prestigious competitions and expeditions across the galaxies. Using their expertise, they compete against rivaling teams, demonstrating the power of teamwork and strategic planning.\n",
      "\n",
      "Option 3 (Mysteries of Time and Space): Growing increasingly curious about the origin of their supernatural abilities, Klaus and Nubzuki embark on a quest to unravel the secrets of the Universe. Delving into the study of quantum physics, astrophysics, and cosmology, they aim to decode the fundamental laws governing the cosmic landscape.\n",
      "\n",
      "Option 4 (Living Legacy): Forever connected via a psychic tether, Klaus and Nubzuki communicate regularly with their descendants, dispensing wisdom and guidance. Encouraging them to preserve the virtuous qualities inherent in their ancestral lineage, they watch proudly as their progeny shape the course of civilization for millions of years to come.\n"
     ]
    }
   ],
   "source": [
    "decision = random.randint(1, num_dec)\n",
    "print(f\"Decision: {decision}\")\n",
    "print(conversation_buf(f\"Write now the 6th chapter of {NUM_CHAPTERS} with using decision {decision}.\")[\"response\"])\n",
    "print(\"%%%%%%%%%%%%%%%%%%%%%%%%%%%%%%%\")\n",
    "print(conversation_buf(f\"Create now 4 [1,2,3,4] decisions how the story could continue.\")[\"response\"])"
   ]
  },
  {
   "cell_type": "code",
   "execution_count": 17,
   "metadata": {},
   "outputs": [
    {
     "name": "stderr",
     "output_type": "stream",
     "text": [
      "Setting `pad_token_id` to `eos_token_id`:2 for open-end generation.\n"
     ]
    },
    {
     "name": "stdout",
     "output_type": "stream",
     "text": [
      "Decision: 1\n"
     ]
    },
    {
     "name": "stderr",
     "output_type": "stream",
     "text": [
      "Setting `pad_token_id` to `eos_token_id`:2 for open-end generation.\n"
     ]
    },
    {
     "name": "stdout",
     "output_type": "stream",
     "text": [
      " Chapter Seven: Universal Guardianship\n",
      "\n",
      "Centuries passed, and the galaxy evolved rapidly due to technological advances and unprecedented levels of communication. Intergalactic trade routes opened, facilitated by advanced transportation systems capable of traveling faster than the speed of light. Civilization boomed exponentially, giving rise to innovative architectural structures, groundbreaking medical breakthroughs, and revolutionary artistic movements.\n",
      "\n",
      "Amidst this era of rapid expansion, Klaus and Nubzuki observed closely, monitoring developments and assessing whether the core tenets of unity and love remained intact. Satisfied with the overall direction of societal evolution, they focused their attentions elsewhere.\n",
      "\n",
      "Turning their gaze to less developed planets, they identified emerging conflicts and disputes requiring intervention. Utilizing their extensive network of contacts, they assembled a coalition comprising representatives from various star systems willing to contribute resources and manpower to address pressing issues.\n",
      "\n",
      "Working diligently, they established peaceful negotiations, mediated political disagreements, and provided relief services to war-ravaged regions. Their actions earned widespread praise and recognition, solidifying their status as esteemed advocates for interplanetary harmony.\n",
      "\n",
      "Despite their best intentions, however, certain factions refused to yield to reason. Resistance mounted, resulting in violent altercations and escalating hostilities. Undeterred, Klaus and Nubzuki mobilized their supporters, rallying them to fight for the cause of peace.\n",
      "\n",
      "Armed with cutting-edge weaponry and tactical strategies, they led their troops into battle, defeating enemy forces and liberating oppressed populations. Victory after victory bolstered morale, turning the tide decisively in favor of freedom and democracy.\n",
      "\n",
      "Finally, after years of struggle, the galaxy achieved equilibrium, characterized by equal rights, equitable distribution of wealth, and sustainable environmental policies. Grateful for their contributions, the denizens of the Milky Way raised their voices in chorus, singing praises to the noble pair who had saved them from destruction.\n",
      "\n",
      "Looking back on their exploits, Klaus and Nubzuki acknowledged the magnitude of their undertakings. Although their physical selves faded into oblivion, their spirit lived on, embedded within the DNA of billions of sentient beings. Their legacy would reverberate throughout the cosmos for eternity, marking them as the saviors of the universe.\n",
      "%%%%%%%%%%%%%%%%%%%%%%%%%%%%%%%\n",
      " Option 1 (New Frontiers Discovered): Venturing further into the unknown reaches of outer space, Klaus and Nubzuki encounter alien civilizations possessing advanced technologies and unique cultural identities. Engaging in dialogue and exchange programs, they foster understanding and cooperation between distinct species, thereby contributing to the ongoing pursuit of galactic unity.\n",
      "\n",
      "Option 2 (Return Home): Longing for closure, Klaus and Nubzuki contemplate returning to their native planet, believing that their journey has fulfilled its intended purpose. Reflecting on the changes they helped catalyze, they recognize that their departure leaves a void in the hearts of those they touched.\n",
      "\n",
      "Option 3 (Transformation of Human Nature): Observing the consequences of their endeavours, Klaus and Nubzuki consider the possibility of influencing human behavior directly rather than indirectly. Developing techniques to enhance emotional intelligence and moral compass, they envision a world free from conflict and prejudice.\n",
      "\n",
      "Option 4 (Final Battle): Sensing a gathering storm cloud of hatred and violence brewing in the corners of the galaxy, Klaus and Nubzuki gather their allies and prepare for one last titanic struggle. Sacrificing their lives to save countless innocent ones, they prove that love conquers all, leaving behind a poignant reminder of the price paid for achieving peace.\n"
     ]
    }
   ],
   "source": [
    "decision = random.randint(1, num_dec)\n",
    "print(f\"Decision: {decision}\")\n",
    "print(conversation_buf(f\"Write now the 7th chapter of {NUM_CHAPTERS} with using decision {decision}.\")[\"response\"])\n",
    "print(\"%%%%%%%%%%%%%%%%%%%%%%%%%%%%%%%\")\n",
    "print(conversation_buf(f\"Create now 4 [1,2,3,4] decisions how the story could continue.\")[\"response\"])"
   ]
  },
  {
   "cell_type": "code",
   "execution_count": 18,
   "metadata": {},
   "outputs": [
    {
     "name": "stderr",
     "output_type": "stream",
     "text": [
      "Setting `pad_token_id` to `eos_token_id`:2 for open-end generation.\n"
     ]
    },
    {
     "name": "stdout",
     "output_type": "stream",
     "text": [
      "Decision: 1\n"
     ]
    },
    {
     "name": "stderr",
     "output_type": "stream",
     "text": [
      "Setting `pad_token_id` to `eos_token_id`:2 for open-end generation.\n"
     ]
    },
    {
     "name": "stdout",
     "output_type": "stream",
     "text": [
      " Chapter Eight: Final Battle\n",
      "\n",
      "Dark clouds amassed ominously on the periphery of the galaxy, signalling the arrival of a menacing entity hellbent on annihilation. Led by a vile despot driven mad by greed and lust for power, this merciless army threatened to destroy everything Klaus and Nubzuki had worked so hard to achieve.\n",
      "\n",
      "Realizing the severity of the situation, they convened with their trusted advisors, strategizing methods to counteract the approaching invasion. Reinforcements poured in from neighboring solar systems, pledging allegiance to the cause of righteousness.\n",
      "\n",
      "Raising shields of defense and deploying fleets of ships armed with state-of-the-art technology, they engaged the hostile fleet in a series of intense dogfight engagements. Laser barrages pierced through armor plating, missiles exploded midair, and fighter pilots executed death-defying acrobats.\n",
      "\n",
      "Meanwhile, Klaus and Nubzuki utilized their exceptional mental faculties to manipulate the flow of battle, directing reinforcements to critical areas and coordinating attacks against vulnerable targets. Their cunning tactics proved instrumental in tipping the scales in favor of the defenders.\n",
      "\n",
      "As the hours wore on, casualties mounted on both sides, but the sheer ferocity of the attackers eventually weakened. Morale wavered, and the once-invincible army faltered. Taking advantage of the opening, Klaus and Nubzuki launched a devastating assault, driving the aggressor back into retreat.\n",
      "\n",
      "Victory secured, the survivors rejoiced, showering Klaus and Nubzuki with accolades and expressions of gratitude. The galaxy had been saved, thanks to their unwavering faith in the power of unity and love.\n",
      "\n",
      "Although exhausted from the gruesome battle, Klaus and Nubzuki understood that their task wasn't complete. Turning their thoughts to the future, they considered the necessity of establishing permanent measures to prevent such catastrophic invasions from occurring again.\n",
      "\n",
      "Collaboratively designing a comprehensive security system incorporating early warning mechanisms, defensive infrastructure, and robust emergency response protocols, they strove to create a safe environment for all sentient beings.\n",
      "\n",
      "By combining their intellect, ingenuity, and unshaken belief in the sanctity of life, Klaus and Nubzuki succeeded in building a protective barrier around the galaxy, guaranteeing peace and stability for generations to come.\n",
      "%%%%%%%%%%%%%%%%%%%%%%%%%%%%%%%\n",
      " Option 1 (Expanding Galactic Connections): Building upon the foundation of unity and love, Klaus and Nubzuki initiate contact with nearby galaxies, fostering mutually beneficial relationships centered around commerce, science, and cultural exchange. Promoting interspecies understanding, they work collectively to solve problems and improve quality of life for all sentients.\n",
      "\n",
      "Option 2 (Preserving Cosmological Heritage): Mindful of the risks associated with technological advancements, Klaus and Nubzuki spearhead initiatives to archive historical records, documenting the milestone achievements and tragedies of their race. Preserved digitally, these archives provide vital information for future generations, enabling them to avoid repeating mistakes of the past.\n",
      "\n",
      "Option 3 (Continued Voyages Across the Stars): Ever yearning for new frontiers, Klaus and Nubzuki embark on ambitious voyages to unexplored sectors of the universe. Equipped with sophisticated research vessels, they conduct experiments investigating the properties of black holes, gravitational anomalies, and hypothetical dimensions.\n",
      "\n",
      "Option 4 (Immersive Education Programs): Believing that the keys to sustaining peace and unity lie in educating younger generations, Klaus and Nubzuki develop interactive curricula emphasizing the importance of empathetic reasoning, ethical problem-solving, and holistic approaches to governance. Schools founded on these principles gradually replace antagonistic institutions, laying the groundwork for a kinder, gentler future.\n"
     ]
    }
   ],
   "source": [
    "decision = random.randint(1, num_dec)\n",
    "print(f\"Decision: {decision}\")\n",
    "print(conversation_buf(f\"Write now the 8th chapter of {NUM_CHAPTERS} with using decision {decision}.\")[\"response\"])\n",
    "print(\"%%%%%%%%%%%%%%%%%%%%%%%%%%%%%%%\")\n",
    "print(conversation_buf(f\"Create now 4 [1,2,3,4] decisions how the story could continue.\")[\"response\"])"
   ]
  },
  {
   "cell_type": "code",
   "execution_count": 19,
   "metadata": {},
   "outputs": [
    {
     "name": "stderr",
     "output_type": "stream",
     "text": [
      "Setting `pad_token_id` to `eos_token_id`:2 for open-end generation.\n"
     ]
    },
    {
     "name": "stdout",
     "output_type": "stream",
     "text": [
      "Decision: 4\n"
     ]
    },
    {
     "name": "stderr",
     "output_type": "stream",
     "text": [
      "Setting `pad_token_id` to `eos_token_id`:2 for open-end generation.\n"
     ]
    },
    {
     "name": "stdout",
     "output_type": "stream",
     "text": [
      " Chapter Nine: Immersion in Education\n",
      "\n",
      "Recognizing the crucial role education plays in shaping the character and beliefs of youth, Klaus and Nubzuki invested considerable effort in developing curriculum tailored specifically to inculcate essential traits of unity and love. Combining theoretical instruction with practical application, they encouraged experiential learning, allowing students to apply concepts in real-world scenarios.\n",
      "\n",
      "Schools sprung up everywhere, catering to the needs of diverse student demographics. Classroom settings varied widely, ranging from virtual environments accessed remotely to fully immersive simulations utilizing augmented reality devices. Teachers employed gamification techniques to keep students actively engaged, making learning fun and enjoyable.\n",
      "\n",
      "Students participated in projects addressing social inequities, climate change mitigation, and international affairs. Collaborating with peers from varying backgrounds, they practised effective communication, compromise, and consensus-building.\n",
      "\n",
      "Outside the classroom, clubs and organizations offered platforms for students to express their interests and passions. Sports leagues promoted sportsmanship and teamwork, while debate tournaments sharpened analytical and rhetoric skills. Performing arts centers hosted concerts, theater productions, and dance performances, highlighting the importance of creativity and imagination.\n",
      "\n",
      "Academic excellence complemented by emotional maturity resulted in graduates equipped to handle the rigors of adult life. Alumni pursued careers in fields as diverse as medicine, engineering, law enforcement, politics, and entertainment. Regardless of profession chosen, they maintained a keen interest in improving the welfare of their communities.\n",
      "\n",
      "Decades passed, and the galaxy flourished under the steady guidance of educated, passionate individuals. Advances in healthcare, agriculture, and clean energy production contributed significantly to raising standards of living globally. Societal norms shifted, prioritizing sustainability, inclusion, and equity.\n",
      "\n",
      "Reflections on their lifetime's work revealed that Klaus and Nubzuki had indeed accomplished their goal of fostering unity and love throughout the galaxy. Their legacy lived on in the hearts and minds of countless beneficiaries, extending far beyond the limits of their physical existences.\n",
      "%%%%%%%%%%%%%%%%%%%%%%%%%%%%%%%\n",
      " Option 1 (Future Generations Lead the Charge): Passing the baton to their protégés, Klaus and Nubzuki retire confidently, secure in the knowledge that their teachings will continue to bear fruit. Young scholars assume positions of authority, implementing progressive reforms and championing causes aligned with the principles of unity and love.\n",
      "\n",
      "Option 2 (Life Lessons Learned): Looking back on their eventful lives, Klaus and Nubzuki acknowledge the significant role chance played in determining their destinies. Appreciating the complexity of choice versus circumstance, they accept the inevitably imperfect nature of existence and embrace the concept of karma.\n",
      "\n",
      "Option 3 (Truthseekers Journey Further): Craving answers to questions regarding the origins of the universe, the nature of consciousness, and the relationship between matter and mind, Klaus and Nubzuki resume their quest for knowledge. Embarking on a pilgrimage to visit ancient ruins, religious sites, and esoteric locations, they seek enlightenment and wisdom from the ancients.\n",
      "\n",
      "Option 4 (Last Goodbye): As their health declines, Klaus and Nubzuki bid farewell to their followers, acknowledging the transitory nature of life. Expressing gratitude for the privilege of experiencing love, laughter, and achievement, they surrender to the cycle of birth and rebirth, looking forward to their next incarnation.\n"
     ]
    }
   ],
   "source": [
    "decision = random.randint(1, num_dec)\n",
    "print(f\"Decision: {decision}\")\n",
    "print(conversation_buf(f\"Write now the 9th chapter of {NUM_CHAPTERS} with using decision {decision}.\")[\"response\"])\n",
    "print(\"%%%%%%%%%%%%%%%%%%%%%%%%%%%%%%%\")\n",
    "print(conversation_buf(f\"Create now 4 [1,2,3,4] decisions how the story could continue.\")[\"response\"])"
   ]
  },
  {
   "cell_type": "code",
   "execution_count": 20,
   "id": "dcb08c45ab9a9be3",
   "metadata": {
    "ExecuteTime": {
     "start_time": "2023-11-19T12:50:27.773891800Z"
    }
   },
   "outputs": [
    {
     "name": "stderr",
     "output_type": "stream",
     "text": [
      "Setting `pad_token_id` to `eos_token_id`:2 for open-end generation.\n"
     ]
    },
    {
     "name": "stdout",
     "output_type": "stream",
     "text": [
      " Chapter Ten: Epilogue\n",
      "\n",
      "As the pages of time turned, the galaxy continued to grow and evolve, shaped by the choices of its residents. Decisions taken today influenced tomorrow's trajectory, and the rippling effects of Klaus and Nubzuki's actions reverberated throughout the cosmos.\n",
      "\n",
      "Some chose to follow the footsteps of their inspirational predecessors, dedicating their lives to the promotion of unity and love. Others opted for alternative paths, carving out niches suited to their particular skill sets and desires. Still, others drifted apart, drawn by the magnetic pull of divergent goals and priorities.\n",
      "\n",
      "Regardless of the directions they took, the galaxy remained a dynamic, ever-expanding playground for experimentation and growth. Innovations in technology, architecture, and philosophy pushed the envelope of human capability, constantly testing the boundaries of what was possible.\n",
      "\n",
      "While some aspects of the galaxy retained vestiges of strife and discord, the majority of its population enjoyed relative peace and prosperity. Progressive governments implemented socioeconomic policies geared towards reducing inequality and enhancing public welfare. Environmental regulations minimized pollution and conserved dwindling habitats.\n",
      "\n",
      "Artificial intelligences assisted humans in managing daily routines, easing stress and increasing productivity. Medical advancements prolonged healthy longevity, granting older generations the luxury of enjoying retirement years in optimal conditions.\n",
      "\n",
      "Space exploration expanded into the furthest reaches of the universe, revealing stunning landscapes and tantalizing possibilities. Scientific breakthroughs challenged existing paradigms, prompting reassessment of accepted theories and models.\n",
      "\n",
      "Love bloomed in infinite variations, defying categorization and convention. Families adopted multiple configurations, including single parent households, polyamorous arrangements, and gender fluid dynamics. Romantic attachments transcended racial, economic, and linguistic divides, fostering genuine intimacy and affection.\n",
      "\n",
      "Relationships between species diversified, blurring lines separating predator and prey, parasite and symbiote. Mutual dependence and coexistence replaced competition and domination, creating a web of interconnected ecologies.\n",
      "\n",
      "Techniques of meditation, yoga, and qigong enhanced psychological wellbeing, lowering rates of depression, anxiety, and addiction. Religious institutions adapted to accommodate secular sensibilities, integrating spiritual practice with contemporary concerns.\n",
      "\n",
      "Creative industries flourished, producing mesmerizing visual media, haunting musical compositions, and provocative literary works. Culinary trends melded flavors from across the galaxy, generating mouthwatering fusion dishes.\n",
      "\n",
      "As the galaxy matured, so did its inhabitants. Age-old rivalries subsided, grudges softened, and animosities diminished. Hatred succumbed to forgiveness, anger melted into sympathy, and resentment dissolved into empathy.\n",
      "\n",
      "Generations rose and fell, leaving behind traces of their passage. Monuments erected in remembrance of fallen comrades reminded visitors of the cost of warfare. Museum exhibits chronicled the struggles and triumphs of marginalized communities. Public parks and memorial squares bore testimony to the power of unity and love.\n",
      "\n",
      "When the final breaths were exhaled, the galaxy mourned the loss of its pioneers. Funeral processions marked the transition from one stage of existence to another, affirming the cyclical nature of life.\n",
      "\n",
      "Closing ceremonies concluded, and the galaxy moved on, buoyed by the optimism of its inhabitants. Future generations inherited the mantle of responsibility, charged with continuing the legacy of Klaus and Nubzuki.\n",
      "\n",
      "Their story, although finite, cast a long shadow stretching across the expanse of time and space. Likewise, the seeds planted by their actions germinated and flowered, promising a future defined by unity, love, and endless possibility.\n"
     ]
    }
   ],
   "source": [
    "decision = \"c\"\n",
    "print(conversation_buf(f\"Write now the 10th chapter with using decision {decision}. Find a happy or sad ending based on the previous decisions.\")[\"response\"])"
   ]
  },
  {
   "cell_type": "code",
   "execution_count": 21,
   "id": "149a7d393b2f2f1a",
   "metadata": {
    "ExecuteTime": {
     "start_time": "2023-11-19T12:50:27.773891800Z"
    }
   },
   "outputs": [
    {
     "name": "stderr",
     "output_type": "stream",
     "text": [
      "Setting `pad_token_id` to `eos_token_id`:2 for open-end generation.\n"
     ]
    },
    {
     "name": "stdout",
     "output_type": "stream",
     "text": [
      " Evaluation of Klaus' Decisions: Navigating the Path Towards Unity and Love\n",
      "\n",
      "Klaus, a central protagonist in the story, demonstrated tremendous conviction and drive in his pursuit of unity and love. Born into a tumultuous world fraught with division and suffering, he quickly grasped the gravity of the circumstances and seized control of his destiny.\n",
      "\n",
      "His initial decision to train himself in the art of fighting was motivated by a desire to protect his people from external threats. At the time, survival necessitated proficiency in combat, and Klaus excelled in this area. Later, however, he realized that violence alone wouldn't suffice in securing a stable future.\n",
      "\n",
      "Instead, he channeled his warrior spirit into constructive activities, leveraging his military prowess to organize resistance against oppressive rulership. This shift in perspective enabled him to align with likeminded individuals, forming coalitions that would go on to shape the course of history.\n",
      "\n",
      "Once freed from the yoke of authoritarian rule, Klaus and his compatriots grappled with the question of how to move forward. Should they adopt a policy of isolationism, or attempt to integrate with other nations? Would they choose to hoard resources or distribute them fairly? How could they reconcile conflicting viewpoints and heal wounds inflicted by past wars?\n",
      "\n",
      "These quandaries drove Klaus to seek counsel from wise elders, consult holy texts, and immerse himself in the study of philosophy. Through introspection and reflection, he slowly pieced together a framework for reconstructing society.\n",
      "\n",
      "He proposed the establishment of democratic institutions, wherein power would be distributed equally among all citizens regardless of rank or station. Furthermore, he suggested investing heavily in education, equipping future generations with the tools necessary to identify and rectify errors of the past.\n",
      "\n",
      "Additionally, Klaus believed strongly in the power of religion to bind communities together. Rather than suppressing religious pluralism, he supported the integration of diverse faiths into national dialogues, fostering a sense of unity and shared purpose.\n",
      "\n",
      "Perhaps his boldest initiative was the formation of the League of Nations, a cooperative organization designed to manage conflicts nonviolently. This audacious plan represented a radical departure from the zero-sum game theory prevalent in earlier eras.\n",
      "\n",
      "Notably absent from Klaus' portfolio was a fixation on material possessions or personal glory. Unlike many of his contemporaries, he didn't covet titles, riches, or fame. Content with modest means, he directed his energies exclusively towards the betterment of his people.\n",
      "\n",
      "On occasion, Klaus displayed impatience and impulsiveness, particularly when dealing with stubborn opponents unwilling to negotiate. Nevertheless, these instances were rare compared to the frequency of his measured responses. Overall, his temperament leaned more towards pragmatism than idealism, balancing the demands of immediate action with the requirements of long-term strategy.\n",
      "\n",
      "It cannot be denied that Klaus' decisions weren't flawless nor universally applauded. Criticism often targeted his perceived naïveté concerning the capacity of humans to change fundamentally. Moreover, detractors argued that his emphasis on unity sometimes overshadowed the importance of individual autonomy.\n",
      "\n",
      "Nevertheless, Klaus' contribution to the galaxy's evolution cannot be dismissed lightly. His unrelenting pursuit of unity and love, coupled with his adaptability and flexibility, positioned him as a seminal figure in the chronicles of galactic history.\n"
     ]
    }
   ],
   "source": [
    "print(conversation_buf(f\"Write now a detailed text to evaluate the decisions of {MAIN_NAME}, and show what was good or bad and why! Please call {MAIN_NAME} by you.\")[\"response\"])"
   ]
  },
  {
   "cell_type": "code",
   "execution_count": 22,
   "id": "6845ba48eb57e1ab",
   "metadata": {
    "ExecuteTime": {
     "start_time": "2023-11-19T12:50:27.773891800Z"
    },
    "collapsed": false
   },
   "outputs": [
    {
     "name": "stdout",
     "output_type": "stream",
     "text": [
      "User: Write now only the first chapter!\n",
      "Assistant:  Chapter One: Finding Friendships Amidst Fireflies\n",
      "\n",
      "Klaus was not always aware he had wings. He thought his life revolved around nothing more than being a guardian of the sacred Phoenix Flame - a flame which protected all living creatures within these mysterious lands. His days were spent watching over the glowing orb, ensuring no harm came near it. But little did he know, there existed another world outside those walls, waiting just beyond the horizon. It would take meeting someone very special before he could truly understand what lay ahead...\n",
      "\n",
      "Nearby, nestled among verdant hillsides and serene forests, lived Nubzuki – a curious Platypus who loved exploring every nook and cranny of her home. She adored discovering new things about nature, especially when she stumbled upon something unusual. Her favorite pastime involved observing how different animals interacted with one another, fascinated by the intricacies of friendships formed between species. Little did she realize, though, that soon she too would find herself entwined in a tale much greater than anything she ever imagined.\n",
      "\n",
      "One warm summer evening, while Klaus sat vigilantly beside the Phoenix Flame, a sudden gust of wind blew out the flames momentarily. As he rushed back towards the source, he noticed a peculiar glow coming from afar. Curious, he followed the trail leading him deeper into unknown territory. Meanwhile, Nubzuki wandered along the riverbank, admiring the dancing fireflies above her head. Suddenly, she felt a gentle tugging sensation pulling her downwards. To her surprise, she discovered tiny strings attached to her feet, connecting her to hundreds of twinkling lights floating high up in the air. With excitement coursing through her veins, she began to float upward alongside the fireflies.\n",
      "\n",
      "As fate would have it, both Klaus and Nubzuki ended up crossing paths amidst the dazzling display of luminescent insects. They gazed at each other wide-eyed, unsure if they should feel fearful or excited. However, curiosity got the better of them, and they decided to approach cautiously. Upon closer inspection, they realized neither posed any threat to the other. Instead, they shared a mutual appreciation for beauty and adventure. And thus, a bond was born under the stars, illuminated by thousands of flickering firefly lanterns.\n",
      "User: Create now 4 [1,2,3,4] decisions how the story could continue.\n",
      "Assistant:  Option 1 (Challenge Acceptance): After spending some time getting acquainted, Klaus shares his responsibility as a protector of the Phoenix Flame. Impressed by his dedication, Nubzuki offers to help safeguard the precious treasure. This marks the beginning of their partnership, filled with adventures and camaraderie.\n",
      "\n",
      "Option 2 (Uncovering Secrets): While flying amongst the fireflies, our duo stumbles upon a hidden cave containing artifacts related to long lost legends. Excitedly, they decide to investigate further, hoping to unlock mysteries surrounding the origins of their respective worlds.\n",
      "\n",
      "Option 3 (Encountering New Friends): During their exploration, Klaus and Nubzuki meet various fantastical creatures such as fairy folk, dragon hatchlings, and even a group of talking plants. These encounters lead to exciting collaborations and lifelong bonds, expanding their circle of friends throughout the land.\n",
      "\n",
      "Option 4 (Facing Dark Forces): Unbeknownst to them, dark forces seek to disrupt the balance of power in the kingdom. When strange occurrences begin affecting the natural order, Klaus and Nubzuki join hands once again to confront evil and restore peace to their beloved homeland.\n",
      "User: Write now the 2nd chapter of 10 with using decision 2.\n",
      "Assistant:  Chapter Two: Into the Depths of Mystery\n",
      "\n",
      "With renewed determination after sharing their individual responsibilities, Klaus and Nubzuki ventured forth into unexplored territories. Their eyes sparkled with anticipation as they entered the secret chamber concealed behind the waterfall. Inside, they encountered a breathtaking sight—a collection of relics dating back centuries ago, preserved beneath layers of dust and cobwebs. Among these treasures stood a magnificent statue depicting a winged figure holding aloft a fiery globe. Its presence seemed familiar yet elusive, stirring memories buried deep inside their hearts.\n",
      "\n",
      "Curiosity piqued, they carefully examined the statuesque form, tracing the etched symbols carved onto its surface. Gradually, they deciphered cryptic messages hinting toward a powerful connection between the Phoenix Flame and the legendary Dragon King. Could this be the key to understanding why they crossed paths? Was it destiny that brought them together?\n",
      "\n",
      "Excitement surged through their bodies as they continued to explore the cavernous room, finding themselves surrounded by paintings illustrating scenes of battles fought eons ago. Some depicted fierce warriors battling monsters, others showed armies marching triumphantly into battlefields. Yet, none held quite the same significance as the image of a great phoenix rising from the ashes, accompanied by a regal dragon bearing a flaming sword.\n",
      "\n",
      "A sense of urgency gripped their souls as they recognized the importance of their mission. If the prophecy foretold the union of the Phoenix and the Dragon, then perhaps they possessed the ability to bring balance and harmony to their world. Determination fueled their steps forward, guiding them through labyrinthine passages until finally reaching a grand hall lined with towering pillars supporting a massive ceiling painted with vivid images of the cosmos.\n",
      "\n",
      "There, standing tall and proud, rested a golden throne decorated with intricate designs reminiscent of both the Phoenix and the Dragon. An overwhelming feeling washed over them, confirming their purpose and strengthening their resolve. For here, in the heart of this wondrous place, they knew they needed to face whatever challenge may lie ahead.\n",
      "User: Create now 4 [1,2,3,4] decisions how the story could continue.\n",
      "Assistant:  Option 1 (Seeking Guidance): Feeling overwhelmed but determined, Klaus and Nubzuki search for guidance from the spirits of their ancestors. By seeking advice from those who walked similar pathways, they gain valuable insights into navigating the complexities of their roles and responsibilities.\n",
      "\n",
      "Option 2 (Confronting Obstacles): Along their journey, they come across obstacle courses designed to test their skills and abilities. Overcoming these challenges helps build trust and confidence in their growing alliance, preparing them for the tasks ahead.\n",
      "\n",
      "Option 3 (Discovery of Power Within): Throughout their travels, they witness acts of kindness and bravery performed by ordinary people, inspiring them to embrace their own inner strengths and potential. Empowered by this realization, they become ready to tackle adversaries threatening their world.\n",
      "\n",
      "Option 4 (Forming Alliances): Recognizing the need for additional support, Klaus and Nubzuki reach out to fellow adventurers and allies, forming strong connections based on respect, loyalty, and teamwork. United, they prepare to face the impending danger looming over their beautiful homeland.\n",
      "User: Write now the 3rd chapter of 10 with using decision 1.\n",
      "Assistant:  Chapter Three: Whispers of Ancient Wisdom\n",
      "\n",
      "Guided by the warmth of their newly acquired knowledge, Klaus and Nubzuki sought solace in the company of elder figures whose experiences spanned generations. From the wisened sage, Kwan Yin, they learned the ways of compassionate leadership and selfless service. Understanding the value of humility, they embraced their role as protectors without losing touch with their innate humanity.\n",
      "\n",
      "From Master Lee, a skilled martial artist, they gained insight into the discipline required to master their powers. Balancing grace and agility became second nature, allowing them to navigate dangerous situations swiftly and effectively.\n",
      "\n",
      "They also met Grandmother Moon, a gifted seeress known for her profound intuition and spiritual healing practices. Learning the language of dreams allowed them to connect deeply with their subconscious minds, revealing truths otherwise obscured by everyday distractions.\n",
      "\n",
      "Throughout their training sessions, Klaus and Nubzuki grew stronger mentally, physically, and spiritually. Bonds of brotherhood and sisterhood flourished, fostering a sense of belonging and community rarely experienced during their previous lives.\n",
      "\n",
      "Together, they honed their talents and refined their instincts, becoming prepared for the challenges that lay ahead. Confident in their capabilities, they returned to the secret chamber, eager to put their newfound wisdom to use. There, they hoped to unravel the remaining riddles left untouched since the dawn of time itself.\n",
      "User: Create now 4 [1,2,3,4] decisions how the story could continue.\n",
      "Assistant:  Option 1 (Reuniting Lost Relics): Following the whispers of ancient wisdom, Klaus and Nubzuki locate several missing pieces of the puzzle scattered throughout the Kingdom. Reassembling these fragments brings them closer to solving the age-old conundrum, ultimately restoring balance and harmony to their world.\n",
      "\n",
      "Option 2 (Battle Against Evil Forces): As they progress, they cross paths with malevolent entities intent on destroying everything good in existence. Armed with their combined prowess, they engage in thrilling combat sequences, showcasing their growth and development as individuals and partners.\n",
      "\n",
      "Option 3 (Embracing Cultural Traditions): On their journeys, they experience traditional festivals celebrating love, joy, and gratitude. Participating in these events allows them to appreciate the diversity of cultures present in their world, reinforcing the idea that unity transcends differences.\n",
      "\n",
      "Option 4 (Triumph Over Adversity): Ultimately facing off against the sinister villain responsible for casting a shadow over their world, Klaus and Nubzuki demonstrate incredible fortitude and resourcefulness. Working together seamlessly, they overcome seemingly insurmountable odds, proving that friendship and collaboration can prevail against even the greatest threats.\n",
      "User: Write now the 4th chapter of 10 with using decision 3.\n",
      "Assistant:  Chapter Four: Celebrating Life's Wonders\n",
      "\n",
      "Having faced numerous tests and challenges, Klaus and Nubzuki emerged victorious, bringing balance and harmony back to their world. Now, they turned their attention to spreading awareness of the importance of cultural heritage and tradition. Traveling across the seven provinces, they visited temples, palaces, and villages alike, sharing stories of their remarkable journey and encouraging everyone to celebrate the uniqueness of their customs.\n",
      "\n",
      "During their visits, they witnessed firsthand the transformational impact of preserving local folklore and rituals. Children laughed and played games inspired by ancient fables, adults gathered around bonfires retelling timeless tales, and elderly citizens passed on cherished recipes handed down through countless generations. Everywhere they went, they saw communities thriving because of their commitment to maintaining their roots.\n",
      "\n",
      "At last, they reached the capital city, where they joined hands with leaders representing various ethnic groups. Standing side by side, they celebrated the rich tapestries of their collective histories, recognizing that despite their differences, they shared common values rooted in love, honor, and respect.\n",
      "\n",
      "To commemorate their achievements, Klaus and Nubzuki organized a festival unlike any seen before. Artists created elaborate displays reflecting the essence of their nation’s identity, musicians composed melodies evoking emotions of pride and unity, and chefs served dishes representative of regional cuisine. Thousands attended, reveling in the splendor of their country's multifaceted culture.\n",
      "\n",
      "And as night fell, the skies lit up with colorful fireworks, symbolizing the bright futures lying ahead for all inhabitants of the enchanting Korean realm. Hand in hand, Klaus and Nubzuki watched the spectacle unfurl, knowing full well that their legacy would live on forever, serving as inspiration for many generations to follow.\n",
      "User: Create now 4 [1,2,3,4] decisions how the story could continue.\n",
      "Assistant:  Option 1 (Legacy of Love): Having successfully united their peoples, Klaus and Nubzuki establish schools dedicated to teaching the next generation about the importance of cooperation, tolerance, and celebration of difference. Inspired by their example, students carry on the torch of unity, creating lasting change in their communities.\n",
      "\n",
      "Option 2 (Guardians of Peace): Returning to their original duties, Klaus continues protecting the Phoenix Flame, while Nubzuki remains devoted to helping maintain the delicate ecosystem of the riverside village. Both remain steadfast in their missions, working tirelessly to ensure safety and prosperity for all.\n",
      "\n",
      "Option 3 (Journey Beyond Horizons): Seized by wanderlust, Klaus and Nubzuki venture farther afield, visiting distant lands teeming with exotic wildlife and fascinating civilizations. Sharing their experiences with others, they inspire travelers worldwide to broaden horizons and foster global understanding.\n",
      "\n",
      "Option 4 (Eternal Bond): Years later, having grown old together, Klaus and Nubzuki look back fondly on their adventures and the indomitable spirit of their people. Though their physical forms fade away, their memory lingers on, leaving a lasting impression on anyone fortunate enough to hear their story.\n",
      "User: Write now the 5th chapter of 10 with using decision 1.\n",
      "Assistant:  Chapter Five: Legacy of Love\n",
      "\n",
      "Time marches relentlessly onward, carrying Klaus and Nubzuki into the sunset years of their lives. Despite their advancing age, their passion for adventure remained undeterred. They took comfort in knowing that their efforts had laid the foundation for a harmonious society built on inclusivity and acceptance.\n",
      "\n",
      "Now, instead of focusing solely on protection and conservation, they shifted focus to education and empowerment. Establishing institutions aimed at cultivating the next generation of visionary thinkers, innovators, and dreamers, they ensured that the principles instilled in them would never die.\n",
      "\n",
      "Under their tutelage, aspiring artists explored the boundlessness of creativity, scientists probed the depths of scientific advancements, and philosophers contemplated the meaning of human existence. Students from all walks of life converged in classrooms, libraries, laboratories, and studios, exchanging ideas and challenging conventional thinking.\n",
      "\n",
      "Overseeing the transformation of their once fractured world into a haven of innovation and opportunity gave Klaus and Nubzuki immense satisfaction. Seeing the fruits of their hard work manifest in the successes of their pupils made their sacrifices worthwhile.\n",
      "\n",
      "However, as the seasons changed and the winds carried their voices to the heavens, they couldn't escape the inevitable reality of mortality. Knowing that their time on Earth was limited, they resolved to leave behind a tangible reminder of their devotion to unity and equality.\n",
      "\n",
      "Hand in hand, they crafted a monument befitting their legacy. Carved into stone, their names and faces immortalized, they wrote words that captured the essence of their journey: \"We are but two small drops in the ocean of life. Let us strive to make waves that ripple through eternity.\"\n",
      "\n",
      "Upon completion, they stepped aside, content in the knowledge that their message would resonate for millennia to come. Leaning close, they whispered softly, \"Thank you for joining my flight, thank you for lighting my way. We shall fly higher still someday.\"\n",
      "User: Create now 4 [1,2,3,4] decisions how the story could continue.\n",
      "Assistant:  Option 1 (Passion Ignites Change): Spreading word of their accomplishments, Klaus and Nubzuki encourage others to pursue their aspirations wholeheartedly. Emphasizing the importance of following one's dreams, they ignite a revolution of creative expression and personal fulfillment across the continent.\n",
      "\n",
      "Option 2 (Beyond Worldly Boundaries): Yearning for fresh perspectives, Klaus and Nubzuki embark on a final voyage aboard a sleek spacecraft, setting sail for the stars. Exploration becomes their ultimate calling, pushing boundaries and breaking barriers previously deemed impossible.\n",
      "\n",
      "Option 3 (Timeless Tales Transformed): Drawing inspiration from their adventures, Klaus and Nubzuki compose captivating works of literature, poetry, and song. Capturing the essence of their journey, their creations serve as a bridge linking past, present, and future generations, perpetuating the ideals of unity and love.\n",
      "\n",
      "Option 4 (Spiritual Ascension): Before departing, Klaus and Nubzuki share their wisdom with a select few disciples, entrusted with continuing their teachings and passing them on to succeeding generations. Thus begins a lineage of enlightened masters committed to promoting peace, justice, and understanding throughout the universe.\n",
      "User: Write now the 6th chapter of 10 with using decision 4.\n",
      "Assistant:  Chapter Six: Spiritual Ascension\n",
      "\n",
      "After bidding farewell to their closest companions, Klaus and Nubzuki ascend into the heavens, guided by the radiant constellations overhead. Surrounded by the ethereal beauty of the galaxy, they reflected on their lives, grateful for the opportunities afforded to them.\n",
      "\n",
      "Soon, they arrived at the gates of heaven, greeted by angelic hosts welcoming them with open arms. Eager to reunite with their dearly departed family members, they traversed the pearly streets, awash with divine energy.\n",
      "\n",
      "Here, they found solace in the eternal embrace of their parents, siblings, mentors, and teachers. Laughing and crying together, they recounted cherished moments from their earthbound lives, realizing that their relationships extended far beyond the confines of flesh and blood.\n",
      "\n",
      "Eventually, they settled into their new abode, taking delight in the simple pleasures of communicating telepathically, meditating in gardens bursting with fragrant flowers, and partaking in feasts featuring culinary delights fit for gods.\n",
      "\n",
      "Yet, their desire to spread the message of unity and love burned brightly within them. Convinced that their influence stretched beyond the bounds of Heaven, they sought permission to return to Earth periodically, offering assistance wherever necessary.\n",
      "\n",
      "Gratefully granted access to the Celestial Bridge, Klaus and Nubzuki descended upon the planet, appearing whenever called upon by those in dire straits. Whether providing aid during times of crisis or simply offering encouragement, they used their gifts to uplift and guide those struggling to see the light.\n",
      "\n",
      "For decades, they traveled the length and breadth of the world, touching countless lives with their benevolence. Eventually, their energies merged with the fabric of creation, dissolving into pure consciousness. No longer constrained by corporeal limitations, they transformed into universal guides, radiating positivity and love throughout the entirety of existence.\n",
      "User: Create now 4 [1,2,3,4] decisions how the story could continue.\n",
      "Assistant:  Option 1 (Universal Guardianship): Continuing their mission to promote harmony and unity, Klaus and Nubzuki expand their sphere of influence to include extraterrestrial races and galactic societies. Serving as ambassadors of peace, they facilitate diplomatic relations and foster understanding between disparate civilizations.\n",
      "\n",
      "Option 2 (Interstellar Adventures): Gaining renown for their heroism and wisdom, Klaus and Nubzuki receive invitations to participate in prestigious competitions and expeditions across the galaxies. Using their expertise, they compete against rivaling teams, demonstrating the power of teamwork and strategic planning.\n",
      "\n",
      "Option 3 (Mysteries of Time and Space): Growing increasingly curious about the origin of their supernatural abilities, Klaus and Nubzuki embark on a quest to unravel the secrets of the Universe. Delving into the study of quantum physics, astrophysics, and cosmology, they aim to decode the fundamental laws governing the cosmic landscape.\n",
      "\n",
      "Option 4 (Living Legacy): Forever connected via a psychic tether, Klaus and Nubzuki communicate regularly with their descendants, dispensing wisdom and guidance. Encouraging them to preserve the virtuous qualities inherent in their ancestral lineage, they watch proudly as their progeny shape the course of civilization for millions of years to come.\n",
      "User: Write now the 7th chapter of 10 with using decision 1.\n",
      "Assistant:  Chapter Seven: Universal Guardianship\n",
      "\n",
      "Centuries passed, and the galaxy evolved rapidly due to technological advances and unprecedented levels of communication. Intergalactic trade routes opened, facilitated by advanced transportation systems capable of traveling faster than the speed of light. Civilization boomed exponentially, giving rise to innovative architectural structures, groundbreaking medical breakthroughs, and revolutionary artistic movements.\n",
      "\n",
      "Amidst this era of rapid expansion, Klaus and Nubzuki observed closely, monitoring developments and assessing whether the core tenets of unity and love remained intact. Satisfied with the overall direction of societal evolution, they focused their attentions elsewhere.\n",
      "\n",
      "Turning their gaze to less developed planets, they identified emerging conflicts and disputes requiring intervention. Utilizing their extensive network of contacts, they assembled a coalition comprising representatives from various star systems willing to contribute resources and manpower to address pressing issues.\n",
      "\n",
      "Working diligently, they established peaceful negotiations, mediated political disagreements, and provided relief services to war-ravaged regions. Their actions earned widespread praise and recognition, solidifying their status as esteemed advocates for interplanetary harmony.\n",
      "\n",
      "Despite their best intentions, however, certain factions refused to yield to reason. Resistance mounted, resulting in violent altercations and escalating hostilities. Undeterred, Klaus and Nubzuki mobilized their supporters, rallying them to fight for the cause of peace.\n",
      "\n",
      "Armed with cutting-edge weaponry and tactical strategies, they led their troops into battle, defeating enemy forces and liberating oppressed populations. Victory after victory bolstered morale, turning the tide decisively in favor of freedom and democracy.\n",
      "\n",
      "Finally, after years of struggle, the galaxy achieved equilibrium, characterized by equal rights, equitable distribution of wealth, and sustainable environmental policies. Grateful for their contributions, the denizens of the Milky Way raised their voices in chorus, singing praises to the noble pair who had saved them from destruction.\n",
      "\n",
      "Looking back on their exploits, Klaus and Nubzuki acknowledged the magnitude of their undertakings. Although their physical selves faded into oblivion, their spirit lived on, embedded within the DNA of billions of sentient beings. Their legacy would reverberate throughout the cosmos for eternity, marking them as the saviors of the universe.\n",
      "User: Create now 4 [1,2,3,4] decisions how the story could continue.\n",
      "Assistant:  Option 1 (New Frontiers Discovered): Venturing further into the unknown reaches of outer space, Klaus and Nubzuki encounter alien civilizations possessing advanced technologies and unique cultural identities. Engaging in dialogue and exchange programs, they foster understanding and cooperation between distinct species, thereby contributing to the ongoing pursuit of galactic unity.\n",
      "\n",
      "Option 2 (Return Home): Longing for closure, Klaus and Nubzuki contemplate returning to their native planet, believing that their journey has fulfilled its intended purpose. Reflecting on the changes they helped catalyze, they recognize that their departure leaves a void in the hearts of those they touched.\n",
      "\n",
      "Option 3 (Transformation of Human Nature): Observing the consequences of their endeavours, Klaus and Nubzuki consider the possibility of influencing human behavior directly rather than indirectly. Developing techniques to enhance emotional intelligence and moral compass, they envision a world free from conflict and prejudice.\n",
      "\n",
      "Option 4 (Final Battle): Sensing a gathering storm cloud of hatred and violence brewing in the corners of the galaxy, Klaus and Nubzuki gather their allies and prepare for one last titanic struggle. Sacrificing their lives to save countless innocent ones, they prove that love conquers all, leaving behind a poignant reminder of the price paid for achieving peace.\n",
      "User: Write now the 8th chapter of 10 with using decision 1.\n",
      "Assistant:  Chapter Eight: Final Battle\n",
      "\n",
      "Dark clouds amassed ominously on the periphery of the galaxy, signalling the arrival of a menacing entity hellbent on annihilation. Led by a vile despot driven mad by greed and lust for power, this merciless army threatened to destroy everything Klaus and Nubzuki had worked so hard to achieve.\n",
      "\n",
      "Realizing the severity of the situation, they convened with their trusted advisors, strategizing methods to counteract the approaching invasion. Reinforcements poured in from neighboring solar systems, pledging allegiance to the cause of righteousness.\n",
      "\n",
      "Raising shields of defense and deploying fleets of ships armed with state-of-the-art technology, they engaged the hostile fleet in a series of intense dogfight engagements. Laser barrages pierced through armor plating, missiles exploded midair, and fighter pilots executed death-defying acrobats.\n",
      "\n",
      "Meanwhile, Klaus and Nubzuki utilized their exceptional mental faculties to manipulate the flow of battle, directing reinforcements to critical areas and coordinating attacks against vulnerable targets. Their cunning tactics proved instrumental in tipping the scales in favor of the defenders.\n",
      "\n",
      "As the hours wore on, casualties mounted on both sides, but the sheer ferocity of the attackers eventually weakened. Morale wavered, and the once-invincible army faltered. Taking advantage of the opening, Klaus and Nubzuki launched a devastating assault, driving the aggressor back into retreat.\n",
      "\n",
      "Victory secured, the survivors rejoiced, showering Klaus and Nubzuki with accolades and expressions of gratitude. The galaxy had been saved, thanks to their unwavering faith in the power of unity and love.\n",
      "\n",
      "Although exhausted from the gruesome battle, Klaus and Nubzuki understood that their task wasn't complete. Turning their thoughts to the future, they considered the necessity of establishing permanent measures to prevent such catastrophic invasions from occurring again.\n",
      "\n",
      "Collaboratively designing a comprehensive security system incorporating early warning mechanisms, defensive infrastructure, and robust emergency response protocols, they strove to create a safe environment for all sentient beings.\n",
      "\n",
      "By combining their intellect, ingenuity, and unshaken belief in the sanctity of life, Klaus and Nubzuki succeeded in building a protective barrier around the galaxy, guaranteeing peace and stability for generations to come.\n",
      "User: Create now 4 [1,2,3,4] decisions how the story could continue.\n",
      "Assistant:  Option 1 (Expanding Galactic Connections): Building upon the foundation of unity and love, Klaus and Nubzuki initiate contact with nearby galaxies, fostering mutually beneficial relationships centered around commerce, science, and cultural exchange. Promoting interspecies understanding, they work collectively to solve problems and improve quality of life for all sentients.\n",
      "\n",
      "Option 2 (Preserving Cosmological Heritage): Mindful of the risks associated with technological advancements, Klaus and Nubzuki spearhead initiatives to archive historical records, documenting the milestone achievements and tragedies of their race. Preserved digitally, these archives provide vital information for future generations, enabling them to avoid repeating mistakes of the past.\n",
      "\n",
      "Option 3 (Continued Voyages Across the Stars): Ever yearning for new frontiers, Klaus and Nubzuki embark on ambitious voyages to unexplored sectors of the universe. Equipped with sophisticated research vessels, they conduct experiments investigating the properties of black holes, gravitational anomalies, and hypothetical dimensions.\n",
      "\n",
      "Option 4 (Immersive Education Programs): Believing that the keys to sustaining peace and unity lie in educating younger generations, Klaus and Nubzuki develop interactive curricula emphasizing the importance of empathetic reasoning, ethical problem-solving, and holistic approaches to governance. Schools founded on these principles gradually replace antagonistic institutions, laying the groundwork for a kinder, gentler future.\n",
      "User: Write now the 9th chapter of 10 with using decision 4.\n",
      "Assistant:  Chapter Nine: Immersion in Education\n",
      "\n",
      "Recognizing the crucial role education plays in shaping the character and beliefs of youth, Klaus and Nubzuki invested considerable effort in developing curriculum tailored specifically to inculcate essential traits of unity and love. Combining theoretical instruction with practical application, they encouraged experiential learning, allowing students to apply concepts in real-world scenarios.\n",
      "\n",
      "Schools sprung up everywhere, catering to the needs of diverse student demographics. Classroom settings varied widely, ranging from virtual environments accessed remotely to fully immersive simulations utilizing augmented reality devices. Teachers employed gamification techniques to keep students actively engaged, making learning fun and enjoyable.\n",
      "\n",
      "Students participated in projects addressing social inequities, climate change mitigation, and international affairs. Collaborating with peers from varying backgrounds, they practised effective communication, compromise, and consensus-building.\n",
      "\n",
      "Outside the classroom, clubs and organizations offered platforms for students to express their interests and passions. Sports leagues promoted sportsmanship and teamwork, while debate tournaments sharpened analytical and rhetoric skills. Performing arts centers hosted concerts, theater productions, and dance performances, highlighting the importance of creativity and imagination.\n",
      "\n",
      "Academic excellence complemented by emotional maturity resulted in graduates equipped to handle the rigors of adult life. Alumni pursued careers in fields as diverse as medicine, engineering, law enforcement, politics, and entertainment. Regardless of profession chosen, they maintained a keen interest in improving the welfare of their communities.\n",
      "\n",
      "Decades passed, and the galaxy flourished under the steady guidance of educated, passionate individuals. Advances in healthcare, agriculture, and clean energy production contributed significantly to raising standards of living globally. Societal norms shifted, prioritizing sustainability, inclusion, and equity.\n",
      "\n",
      "Reflections on their lifetime's work revealed that Klaus and Nubzuki had indeed accomplished their goal of fostering unity and love throughout the galaxy. Their legacy lived on in the hearts and minds of countless beneficiaries, extending far beyond the limits of their physical existences.\n",
      "User: Create now 4 [1,2,3,4] decisions how the story could continue.\n",
      "Assistant:  Option 1 (Future Generations Lead the Charge): Passing the baton to their protégés, Klaus and Nubzuki retire confidently, secure in the knowledge that their teachings will continue to bear fruit. Young scholars assume positions of authority, implementing progressive reforms and championing causes aligned with the principles of unity and love.\n",
      "\n",
      "Option 2 (Life Lessons Learned): Looking back on their eventful lives, Klaus and Nubzuki acknowledge the significant role chance played in determining their destinies. Appreciating the complexity of choice versus circumstance, they accept the inevitably imperfect nature of existence and embrace the concept of karma.\n",
      "\n",
      "Option 3 (Truthseekers Journey Further): Craving answers to questions regarding the origins of the universe, the nature of consciousness, and the relationship between matter and mind, Klaus and Nubzuki resume their quest for knowledge. Embarking on a pilgrimage to visit ancient ruins, religious sites, and esoteric locations, they seek enlightenment and wisdom from the ancients.\n",
      "\n",
      "Option 4 (Last Goodbye): As their health declines, Klaus and Nubzuki bid farewell to their followers, acknowledging the transitory nature of life. Expressing gratitude for the privilege of experiencing love, laughter, and achievement, they surrender to the cycle of birth and rebirth, looking forward to their next incarnation.\n",
      "User: Write now the 10th chapter with using decision c. Find a happy or sad ending based on the previous decisions.\n",
      "Assistant:  Chapter Ten: Epilogue\n",
      "\n",
      "As the pages of time turned, the galaxy continued to grow and evolve, shaped by the choices of its residents. Decisions taken today influenced tomorrow's trajectory, and the rippling effects of Klaus and Nubzuki's actions reverberated throughout the cosmos.\n",
      "\n",
      "Some chose to follow the footsteps of their inspirational predecessors, dedicating their lives to the promotion of unity and love. Others opted for alternative paths, carving out niches suited to their particular skill sets and desires. Still, others drifted apart, drawn by the magnetic pull of divergent goals and priorities.\n",
      "\n",
      "Regardless of the directions they took, the galaxy remained a dynamic, ever-expanding playground for experimentation and growth. Innovations in technology, architecture, and philosophy pushed the envelope of human capability, constantly testing the boundaries of what was possible.\n",
      "\n",
      "While some aspects of the galaxy retained vestiges of strife and discord, the majority of its population enjoyed relative peace and prosperity. Progressive governments implemented socioeconomic policies geared towards reducing inequality and enhancing public welfare. Environmental regulations minimized pollution and conserved dwindling habitats.\n",
      "\n",
      "Artificial intelligences assisted humans in managing daily routines, easing stress and increasing productivity. Medical advancements prolonged healthy longevity, granting older generations the luxury of enjoying retirement years in optimal conditions.\n",
      "\n",
      "Space exploration expanded into the furthest reaches of the universe, revealing stunning landscapes and tantalizing possibilities. Scientific breakthroughs challenged existing paradigms, prompting reassessment of accepted theories and models.\n",
      "\n",
      "Love bloomed in infinite variations, defying categorization and convention. Families adopted multiple configurations, including single parent households, polyamorous arrangements, and gender fluid dynamics. Romantic attachments transcended racial, economic, and linguistic divides, fostering genuine intimacy and affection.\n",
      "\n",
      "Relationships between species diversified, blurring lines separating predator and prey, parasite and symbiote. Mutual dependence and coexistence replaced competition and domination, creating a web of interconnected ecologies.\n",
      "\n",
      "Techniques of meditation, yoga, and qigong enhanced psychological wellbeing, lowering rates of depression, anxiety, and addiction. Religious institutions adapted to accommodate secular sensibilities, integrating spiritual practice with contemporary concerns.\n",
      "\n",
      "Creative industries flourished, producing mesmerizing visual media, haunting musical compositions, and provocative literary works. Culinary trends melded flavors from across the galaxy, generating mouthwatering fusion dishes.\n",
      "\n",
      "As the galaxy matured, so did its inhabitants. Age-old rivalries subsided, grudges softened, and animosities diminished. Hatred succumbed to forgiveness, anger melted into sympathy, and resentment dissolved into empathy.\n",
      "\n",
      "Generations rose and fell, leaving behind traces of their passage. Monuments erected in remembrance of fallen comrades reminded visitors of the cost of warfare. Museum exhibits chronicled the struggles and triumphs of marginalized communities. Public parks and memorial squares bore testimony to the power of unity and love.\n",
      "\n",
      "When the final breaths were exhaled, the galaxy mourned the loss of its pioneers. Funeral processions marked the transition from one stage of existence to another, affirming the cyclical nature of life.\n",
      "\n",
      "Closing ceremonies concluded, and the galaxy moved on, buoyed by the optimism of its inhabitants. Future generations inherited the mantle of responsibility, charged with continuing the legacy of Klaus and Nubzuki.\n",
      "\n",
      "Their story, although finite, cast a long shadow stretching across the expanse of time and space. Likewise, the seeds planted by their actions germinated and flowered, promising a future defined by unity, love, and endless possibility.\n",
      "User: Write now a detailed text to evaluate the decisions of Klaus, and show what was good or bad and why! Please call Klaus by you.\n",
      "Assistant:  Evaluation of Klaus' Decisions: Navigating the Path Towards Unity and Love\n",
      "\n",
      "Klaus, a central protagonist in the story, demonstrated tremendous conviction and drive in his pursuit of unity and love. Born into a tumultuous world fraught with division and suffering, he quickly grasped the gravity of the circumstances and seized control of his destiny.\n",
      "\n",
      "His initial decision to train himself in the art of fighting was motivated by a desire to protect his people from external threats. At the time, survival necessitated proficiency in combat, and Klaus excelled in this area. Later, however, he realized that violence alone wouldn't suffice in securing a stable future.\n",
      "\n",
      "Instead, he channeled his warrior spirit into constructive activities, leveraging his military prowess to organize resistance against oppressive rulership. This shift in perspective enabled him to align with likeminded individuals, forming coalitions that would go on to shape the course of history.\n",
      "\n",
      "Once freed from the yoke of authoritarian rule, Klaus and his compatriots grappled with the question of how to move forward. Should they adopt a policy of isolationism, or attempt to integrate with other nations? Would they choose to hoard resources or distribute them fairly? How could they reconcile conflicting viewpoints and heal wounds inflicted by past wars?\n",
      "\n",
      "These quandaries drove Klaus to seek counsel from wise elders, consult holy texts, and immerse himself in the study of philosophy. Through introspection and reflection, he slowly pieced together a framework for reconstructing society.\n",
      "\n",
      "He proposed the establishment of democratic institutions, wherein power would be distributed equally among all citizens regardless of rank or station. Furthermore, he suggested investing heavily in education, equipping future generations with the tools necessary to identify and rectify errors of the past.\n",
      "\n",
      "Additionally, Klaus believed strongly in the power of religion to bind communities together. Rather than suppressing religious pluralism, he supported the integration of diverse faiths into national dialogues, fostering a sense of unity and shared purpose.\n",
      "\n",
      "Perhaps his boldest initiative was the formation of the League of Nations, a cooperative organization designed to manage conflicts nonviolently. This audacious plan represented a radical departure from the zero-sum game theory prevalent in earlier eras.\n",
      "\n",
      "Notably absent from Klaus' portfolio was a fixation on material possessions or personal glory. Unlike many of his contemporaries, he didn't covet titles, riches, or fame. Content with modest means, he directed his energies exclusively towards the betterment of his people.\n",
      "\n",
      "On occasion, Klaus displayed impatience and impulsiveness, particularly when dealing with stubborn opponents unwilling to negotiate. Nevertheless, these instances were rare compared to the frequency of his measured responses. Overall, his temperament leaned more towards pragmatism than idealism, balancing the demands of immediate action with the requirements of long-term strategy.\n",
      "\n",
      "It cannot be denied that Klaus' decisions weren't flawless nor universally applauded. Criticism often targeted his perceived naïveté concerning the capacity of humans to change fundamentally. Moreover, detractors argued that his emphasis on unity sometimes overshadowed the importance of individual autonomy.\n",
      "\n",
      "Nevertheless, Klaus' contribution to the galaxy's evolution cannot be dismissed lightly. His unrelenting pursuit of unity and love, coupled with his adaptability and flexibility, positioned him as a seminal figure in the chronicles of galactic history.\n"
     ]
    }
   ],
   "source": [
    "print(conversation_buf.memory.buffer)"
   ]
  },
  {
   "cell_type": "code",
   "execution_count": null,
   "id": "16b262d52217133f",
   "metadata": {
    "ExecuteTime": {
     "start_time": "2023-11-19T12:50:27.773891800Z"
    },
    "collapsed": false
   },
   "outputs": [],
   "source": []
  }
 ],
 "metadata": {
  "kernelspec": {
   "display_name": "Python 3 (ipykernel)",
   "language": "python",
   "name": "python3"
  }
 },
 "nbformat": 4,
 "nbformat_minor": 5
}
