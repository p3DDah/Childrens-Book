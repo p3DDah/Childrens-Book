{
 "cells": [
  {
   "cell_type": "code",
   "execution_count": 1,
   "id": "78da848fcf59f8b2",
   "metadata": {
    "collapsed": true,
    "ExecuteTime": {
     "end_time": "2023-11-08T12:29:34.820472200Z",
     "start_time": "2023-11-08T12:29:22.691186200Z"
    }
   },
   "outputs": [
    {
     "name": "stderr",
     "output_type": "stream",
     "text": [
      "C:\\Users\\phili\\miniconda3\\envs\\Childrens-Book\\Lib\\site-packages\\pydub\\utils.py:170: RuntimeWarning: Couldn't find ffmpeg or avconv - defaulting to ffmpeg, but may not work\n",
      "  warn(\"Couldn't find ffmpeg or avconv - defaulting to ffmpeg, but may not work\", RuntimeWarning)\n"
     ]
    }
   ],
   "source": [
    "from diffusers import AudioLDM2Pipeline\n",
    "from pydub import AudioSegment\n",
    "import torch\n",
    "import scipy\n",
    "import simpleaudio as sa\n",
    "import numpy as np\n",
    "# https://github.com/haoheliu/AudioLDM2"
   ]
  },
  {
   "cell_type": "code",
   "execution_count": 2,
   "outputs": [
    {
     "name": "stderr",
     "output_type": "stream",
     "text": [
      "projection_model\\diffusion_pytorch_model.safetensors not found\n"
     ]
    },
    {
     "data": {
      "text/plain": "Loading pipeline components...:   0%|          | 0/11 [00:00<?, ?it/s]",
      "application/vnd.jupyter.widget-view+json": {
       "version_major": 2,
       "version_minor": 0,
       "model_id": "33ea23329bf0419f9449de6eb98f9bd2"
      }
     },
     "metadata": {},
     "output_type": "display_data"
    }
   ],
   "source": [
    "repo_id = \"cvssp/audioldm2-large\"\n",
    "#repo_id = \"cvssp/audioldm2-music\"\n",
    "pipe = AudioLDM2Pipeline.from_pretrained(repo_id, torch_dtype=torch.float16)\n",
    "pipe = pipe.to(\"cuda\")"
   ],
   "metadata": {
    "collapsed": false,
    "ExecuteTime": {
     "end_time": "2023-11-08T12:30:19.128152300Z",
     "start_time": "2023-11-08T12:29:34.855982400Z"
    }
   },
   "id": "65933f2f77f5fbd3"
  },
  {
   "cell_type": "code",
   "execution_count": 24,
   "outputs": [
    {
     "data": {
      "text/plain": "  0%|          | 0/200 [00:00<?, ?it/s]",
      "application/vnd.jupyter.widget-view+json": {
       "version_major": 2,
       "version_minor": 0,
       "model_id": "d11bb156af2444b1a256042bdfa62ca7"
      }
     },
     "metadata": {},
     "output_type": "display_data"
    }
   ],
   "source": [
    "# define the prompts\n",
    "\n",
    "prompt = \"\"\"High quality, C Major, G Major, A Minor, F Major, sadness, deep bass\"\"\"\n",
    "negative_prompt = \"\"\"Avoid low quality, muddled sounds, dissonance, erratic rhythms, harsh dynamics, high frequencies.\"\"\"\n",
    "\n",
    "# set the seed for generator\n",
    "generator = torch.Generator(\"cuda\").manual_seed(0)\n",
    "\n",
    "# run the generation\n",
    "audio = pipe(\n",
    "    prompt,\n",
    "    negative_prompt=negative_prompt,\n",
    "    num_inference_steps=200,\n",
    "    audio_length_in_s=30.0\n",
    ").audios"
   ],
   "metadata": {
    "collapsed": false,
    "ExecuteTime": {
     "end_time": "2023-11-08T13:24:12.600541400Z",
     "start_time": "2023-11-08T13:19:10.178125500Z"
    }
   },
   "id": "7af77febca7e7b3"
  },
  {
   "cell_type": "code",
   "execution_count": 25,
   "outputs": [],
   "source": [
    "audio_int = np.int16(audio[0] / np.max(np.abs(audio)) * 32767)\n",
    "scipy.io.wavfile.write(\"techno.wav\", rate=16000, data=audio_int)"
   ],
   "metadata": {
    "collapsed": false,
    "ExecuteTime": {
     "end_time": "2023-11-08T13:24:12.616036100Z",
     "start_time": "2023-11-08T13:24:12.604547800Z"
    }
   },
   "id": "initial_id"
  },
  {
   "cell_type": "code",
   "execution_count": 26,
   "outputs": [
    {
     "data": {
      "text/plain": "<_io.BufferedRandom name='techno_fade.wav'>"
     },
     "execution_count": 26,
     "metadata": {},
     "output_type": "execute_result"
    }
   ],
   "source": [
    "# Load your existing WAV file\n",
    "audio = AudioSegment.from_file(\"techno.wav\")\n",
    "\n",
    "# Define the duration of the fade-in and fade-out in milliseconds\n",
    "fade_in_duration = 2000  # 1 second\n",
    "fade_out_duration = 2000  # 1 second\n",
    "\n",
    "# Apply fade-in and fade-out\n",
    "audio_with_fades = audio.fade_in(fade_in_duration).fade_out(fade_out_duration)\n",
    "\n",
    "# Export the result\n",
    "audio_with_fades.export(\"techno_fade.wav\", format=\"wav\")"
   ],
   "metadata": {
    "collapsed": false,
    "ExecuteTime": {
     "end_time": "2023-11-08T13:24:12.676384400Z",
     "start_time": "2023-11-08T13:24:12.621052400Z"
    }
   },
   "id": "3ba93ed3f44e552a"
  },
  {
   "cell_type": "code",
   "execution_count": 27,
   "outputs": [],
   "source": [
    "# Laden Sie die WAV-Datei\n",
    "wave_obj = sa.WaveObject.from_wave_file(\"techno_fade.wav\")\n",
    "\n",
    "# Spielen Sie die WAV-Datei ab\n",
    "play_obj = wave_obj.play()\n",
    "\n",
    "# Warten Sie, bis die WAV-Datei fertig abgespielt ist\n",
    "play_obj.wait_done()"
   ],
   "metadata": {
    "collapsed": false,
    "ExecuteTime": {
     "end_time": "2023-11-08T13:24:55.117510200Z",
     "start_time": "2023-11-08T13:24:24.386057Z"
    }
   },
   "id": "e7eed92d0c52a6f"
  },
  {
   "cell_type": "code",
   "execution_count": 6,
   "outputs": [],
   "source": [],
   "metadata": {
    "collapsed": false,
    "ExecuteTime": {
     "end_time": "2023-11-08T12:47:04.520679800Z",
     "start_time": "2023-11-08T12:47:04.188354100Z"
    }
   },
   "id": "b323fb80077c4973"
  }
 ],
 "metadata": {
  "kernelspec": {
   "display_name": "Python 3",
   "language": "python",
   "name": "python3"
  },
  "language_info": {
   "codemirror_mode": {
    "name": "ipython",
    "version": 2
   },
   "file_extension": ".py",
   "mimetype": "text/x-python",
   "name": "python",
   "nbconvert_exporter": "python",
   "pygments_lexer": "ipython2",
   "version": "2.7.6"
  }
 },
 "nbformat": 4,
 "nbformat_minor": 5
}
