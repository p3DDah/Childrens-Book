{
 "cells": [
  {
   "cell_type": "code",
   "execution_count": null,
   "id": "5f8336cc8cc39ba3",
   "metadata": {
    "collapsed": true,
    "is_executing": true
   },
   "outputs": [],
   "source": [
    "import argostranslate.package\n",
    "import argostranslate.translate\n",
    "from iso639 import languages\n",
    "from tqdm import tqdm\n",
    "import os"
   ]
  },
  {
   "cell_type": "code",
   "execution_count": 2,
   "id": "1612a91149f02058",
   "metadata": {
    "ExecuteTime": {
     "end_time": "2023-11-13T06:40:01.994261300Z",
     "start_time": "2023-11-13T06:40:01.606404500Z"
    },
    "collapsed": false
   },
   "outputs": [
    {
     "name": "stdout",
     "output_type": "stream",
     "text": [
      "{'sq': 'Albanian', 'en': 'English', 'ar': 'Arabic', 'az': 'Azerbaijani', 'bn': 'Bengali', 'bg': 'Bulgarian', 'ca': 'Catalan', 'zt': 'Unbekannte Sprache', 'zh': 'Chinese', 'cs': 'Czech', 'da': 'Danish', 'nl': 'Dutch', 'eo': 'Esperanto', 'et': 'Estonian', 'fi': 'Finnish', 'fr': 'French', 'de': 'German', 'el': 'Modern Greek (1453-)', 'he': 'Hebrew', 'hi': 'Hindi', 'hu': 'Hungarian', 'id': 'Indonesian', 'ga': 'Irish', 'it': 'Italian', 'ja': 'Japanese', 'ko': 'Korean', 'lv': 'Latvian', 'lt': 'Lithuanian', 'ms': 'Malay (macrolanguage)', 'nb': 'Norwegian Bokmål', 'fa': 'Persian', 'pl': 'Polish', 'pt': 'Portuguese', 'ro': 'Romanian', 'ru': 'Russian', 'sr': 'Serbian', 'sk': 'Slovak', 'sl': 'Slovenian', 'es': 'Spanish', 'sv': 'Swedish', 'tl': 'Tagalog', 'th': 'Thai', 'tr': 'Turkish', 'uk': 'Ukrainian'}\n"
     ]
    }
   ],
   "source": [
    "# Definieren Sie einen Pfad, an dem die Pakete gespeichert werden sollen\n",
    "download_directory = \"languages\"\n",
    "\n",
    "# Stellen Sie sicher, dass das Verzeichnis existiert\n",
    "os.makedirs(download_directory, exist_ok=True)\n",
    "\n",
    "# Update the package index\n",
    "argostranslate.package.update_package_index()\n",
    "\n",
    "# Get all available packages\n",
    "available_packages = argostranslate.package.get_available_packages()\n",
    "\n",
    "# Create a dictionary to store language codes and their full names\n",
    "languages_dict = {}\n",
    "\n",
    "# Loop over each package and add the language codes and names to the dictionary\n",
    "for package in available_packages:\n",
    "    # Check and add the from_code and its full name\n",
    "    try:\n",
    "        from_language = languages.get(part1=package.from_code).name\n",
    "    except KeyError:\n",
    "        from_language = \"Unbekannte Sprache\"\n",
    "    languages_dict[package.from_code] = from_language\n",
    "    \n",
    "    # Check and add the to_code and its full name\n",
    "    try:\n",
    "        to_language = languages.get(part1=package.to_code).name\n",
    "    except KeyError:\n",
    "        to_language = \"Unbekannte Sprache\"\n",
    "    languages_dict[package.to_code] = to_language\n",
    "\n",
    "# Print the dictionary of languages\n",
    "print(languages_dict)"
   ]
  },
  {
   "cell_type": "code",
   "execution_count": 3,
   "id": "f8114fde69a2f7bc",
   "metadata": {
    "ExecuteTime": {
     "end_time": "2023-11-13T06:40:09.191548700Z",
     "start_time": "2023-11-13T06:40:09.122458400Z"
    },
    "collapsed": false
   },
   "outputs": [
    {
     "name": "stdout",
     "output_type": "stream",
     "text": [
      "44\n"
     ]
    }
   ],
   "source": [
    "print(len(languages_dict))"
   ]
  },
  {
   "cell_type": "code",
   "execution_count": 4,
   "id": "9cb5a5fa9c3992ba",
   "metadata": {
    "ExecuteTime": {
     "end_time": "2023-11-08T06:40:43.891356800Z",
     "start_time": "2023-11-08T06:40:38.800981100Z"
    },
    "collapsed": false
   },
   "outputs": [
    {
     "name": "stderr",
     "output_type": "stream",
     "text": [
      "Downloading Ukrainian to English: 100%|██████████| 86/86 [00:05<00:00, 16.95it/s]            \n"
     ]
    }
   ],
   "source": [
    "counter = 0\n",
    "# Create a tqdm progress bar\n",
    "with tqdm(total=len(available_packages), desc=\"Downloading packages\") as pbar:\n",
    "    # Loop through each package and update the progress bar accordingly\n",
    "    for package in available_packages:\n",
    "        # Get the full names of the languages using the iso639 library\n",
    "        from_language = languages_dict.get(package.from_code, \"Unknown language\")\n",
    "        to_language = languages_dict.get(package.to_code, \"Unknown language\")\n",
    "        \n",
    "        # Update the progress bar description for the current package\n",
    "        pbar.set_description(f\"Downloading {from_language} to {to_language}\")\n",
    "        \n",
    "        # Pfad für das heruntergeladene Paket festlegen\n",
    "        package_path_str = os.path.join(download_directory, f\"{package.from_code}_to_{package.to_code}.argosmodel\")\n",
    "\n",
    "        # Überprüfen Sie, ob das Paket bereits heruntergeladen wurde\n",
    "        if not os.path.isfile(package_path_str):\n",
    "            try:\n",
    "                # Download und speichern Sie das Paket\n",
    "                download_path = package.download()  # Dies ist der Pfad zur heruntergeladenen Datei\n",
    "            \n",
    "                # Lesen Sie die Daten von dem heruntergeladenen Pfad und schreiben Sie sie in die Zieldatei\n",
    "                with open(str(download_path), 'rb') as downloaded_file:\n",
    "                    package_data = downloaded_file.read()\n",
    "            \n",
    "                with open(package_path_str, 'wb') as package_file:\n",
    "                    package_file.write(package_data)\n",
    "            \n",
    "                # Installieren Sie das Paket von dem gespeicherten Pfad\n",
    "                argostranslate.package.install_from_path(package_path_str)\n",
    "            except Exception as e:\n",
    "                tqdm.write(f\"Failed to download {from_language} to {to_language}: {e}\")\n",
    "        else:\n",
    "            counter += 1\n",
    "        \n",
    "        # Update the progress bar\n",
    "        pbar.update(1)\n",
    "if counter == len(available_packages):\n",
    "    print(\"All packages already downloaded!\")\n"
   ]
  },
  {
   "cell_type": "code",
   "execution_count": 5,
   "id": "initial_id",
   "metadata": {
    "ExecuteTime": {
     "end_time": "2023-11-08T06:41:05.628848700Z",
     "start_time": "2023-11-08T06:40:57.356948400Z"
    },
    "collapsed": false
   },
   "outputs": [
    {
     "name": "stdout",
     "output_type": "stream",
     "text": [
      "Of course, I'd like to help you understand the topics about Machine Learning Basics and Deep Forward Networks. Let's start with the basics and then work on the more specific concepts of the Deep Forward Networks.\n",
      "Machine Learning Basics (machine learning basics)\n",
      "\n",
      "Machine learning is an area of artificial intelligence that gives computers the ability to learn and improve without having to be explicitly programmed. It is based on algorithms that can learn from data and make predictions or decisions.\n",
      "\n",
      "Data: In machine learning, we use data to teach the model how to make decisions. Data can be images, texts, numbers or any kind of information that the model can use to learn.\n",
      "\n",
      "Algorithm: An algorithm is a set of rules or instructions that tell a computer how to solve a problem. In machine learning, an algorithm is like a recipe that tells the computer how to learn from the data.\n",
      "\n",
      "Model: A model in machine learning is like a student who learns from the data. It takes the information (data) and the instructions (Algorithmus) and tries to identify patterns or relationships to make predictions.\n",
      "\n",
      "Training: Training is the process where the model learns. We give him examples (data), and it tries to identify the patterns. The more data we have, the better the model can learn.\n",
      "\n",
      "Forecast: After training, the model can take new data and try to make predictions based on it. For example, if we train a model with pictures of cats and dogs, it can later see a new picture and say whether it is a cat or a dog.\n",
      "\n",
      "Deep Forward Networks (depth forward networks)\n",
      "\n",
      "Deep Forward Networks, also known as Feedforward Neural Networks (forward directed neural networks), are a kind of artificial neural networks where information only flows in one direction, from input to output.\n",
      "\n",
      "Neurons: These networks consist of neurons that are small computing units. Each neuron takes inputs, processes them and outputs a result. It's like a little worker who does part of the job.\n",
      "\n",
      "Layers: The neurons are organized in layers. The first layer records the input data, the middle layers process the data further, and the last layer outputs the prediction. You can imagine this like a factory where each layer is a station that makes a part of the work.\n",
      "\n",
      "Activation function: Each neuron has an activation function that decides whether and how strong it is activated, so whether it transmits a signal or not. This is similar to us humans when we decide whether we react to something or not.\n",
      "\n",
      "Weights: Each connection between the neurons has a weight that determines how strongly the input of a neuron influences the output of the next neuron. This is like the volume in a conversation, the louder someone speaks, the more it affects how well we can understand it.\n",
      "\n",
      "Bias: A bias is an additional input for neurons that helps to adjust the output. That's like a basic lute in a conversation, even if nobody says anything, there's still a little noise.\n",
      "\n",
      "Backpropagation: This is a method to adjust the weights in the network so that the model gets better. It's like a teacher gives feedback to a student so he can improve.\n",
      "\n",
      "Loss Function: A loss function measures how good the model is. It's like a note in school that says how good the student has cut off on a test.\n",
      "\n",
      "If you have specific questions on these topics or need more details on certain concepts, let me know!\n"
     ]
    }
   ],
   "source": [
    "from_code = \"de\"\n",
    "to_code = \"en\"\n",
    "text = \"\"\"Natürlich, ich helfe dir gerne dabei, die Themen rund um Machine Learning Basics und Deep Forward Networks zu verstehen. Beginnen wir mit den Grundlagen und arbeiten uns dann zu den spezifischeren Konzepten der Deep Forward Networks vor.\n",
    "Machine Learning Basics (Maschinelles Lernen Grundlagen)\n",
    "\n",
    "Maschinelles Lernen ist ein Bereich der künstlichen Intelligenz, der Computern die Fähigkeit gibt, zu lernen und sich zu verbessern, ohne dass sie explizit programmiert werden müssen. Es basiert auf Algorithmen, die aus Daten lernen und Vorhersagen oder Entscheidungen treffen können.\n",
    "\n",
    "    Daten: Im maschinellen Lernen verwenden wir Daten, um dem Modell beizubringen, wie es Entscheidungen treffen soll. Daten können Bilder, Texte, Zahlen oder jede Art von Information sein, die das Modell verwenden kann, um zu lernen.\n",
    "\n",
    "    Algorithmus: Ein Algorithmus ist eine Reihe von Regeln oder Anweisungen, die einem Computer sagen, wie er ein Problem lösen kann. Im maschinellen Lernen ist ein Algorithmus wie ein Rezept, das dem Computer sagt, wie er aus den Daten lernen kann.\n",
    "\n",
    "    Modell: Ein Modell im maschinellen Lernen ist wie ein Schüler, der aus den Daten lernt. Es nimmt die Informationen (Daten) und die Anweisungen (Algorithmus) und versucht, Muster oder Beziehungen zu erkennen, um Vorhersagen zu treffen.\n",
    "\n",
    "    Training: Training ist der Prozess, bei dem das Modell lernt. Wir geben ihm Beispiele (Daten), und es versucht, die Muster zu erkennen. Je mehr Daten wir haben, desto besser kann das Modell lernen.\n",
    "\n",
    "    Vorhersage: Nach dem Training kann das Modell neue Daten nehmen und versuchen, darauf basierend Vorhersagen zu machen. Zum Beispiel, wenn wir ein Modell mit Bildern von Katzen und Hunden trainieren, kann es später ein neues Bild ansehen und sagen, ob es eine Katze oder ein Hund ist.\n",
    "\n",
    "Deep Forward Networks (Tiefe Vorwärtsnetzwerke)\n",
    "\n",
    "Deep Forward Networks, auch bekannt als Feedforward Neural Networks (Vorwärtsgerichtete Neuronale Netze), sind eine Art von künstlichen neuronalen Netzen, wo Informationen nur in eine Richtung fließen, von Eingabe zu Ausgabe.\n",
    "\n",
    "    Neuronen: Diese Netzwerke bestehen aus Neuronen, die kleine Recheneinheiten sind. Jedes Neuron nimmt Eingaben, verarbeitet sie und gibt ein Ergebnis aus. Es ist wie ein kleiner Arbeiter, der einen Teil der Aufgabe erledigt.\n",
    "\n",
    "    Schichten: Die Neuronen sind in Schichten organisiert. Die erste Schicht nimmt die Eingabedaten auf, die mittleren Schichten verarbeiten die Daten weiter, und die letzte Schicht gibt die Vorhersage aus. Man kann sich das wie eine Fabrik vorstellen, wo jede Schicht eine Station ist, die einen Teil der Arbeit macht.\n",
    "\n",
    "    Aktivierungsfunktion: Jedes Neuron hat eine Aktivierungsfunktion, die entscheidet, ob und wie stark es aktiviert wird, also ob es ein Signal weitergibt oder nicht. Das ist ähnlich wie bei uns Menschen, wenn wir entscheiden, ob wir auf etwas reagieren oder nicht.\n",
    "\n",
    "    Gewichte: Jede Verbindung zwischen den Neuronen hat ein Gewicht, das bestimmt, wie stark die Eingabe eines Neurons die Ausgabe des nächsten Neurons beeinflusst. Das ist wie die Lautstärke in einem Gespräch, je lauter jemand spricht, desto mehr beeinflusst es, wie gut wir ihn verstehen können.\n",
    "\n",
    "    Bias: Ein Bias ist eine zusätzliche Eingabe für Neuronen, die hilft, die Ausgabe zu justieren. Das ist wie eine Grundlautstärke in einem Gespräch, selbst wenn niemand etwas sagt, gibt es immer noch ein bisschen Lärm.\n",
    "\n",
    "    Backpropagation: Das ist eine Methode, um die Gewichte im Netzwerk zu justieren, damit das Modell besser wird. Es ist wie wenn ein Lehrer einem Schüler Feedback gibt, damit er sich verbessern kann.\n",
    "\n",
    "    Loss Function: Eine Verlustfunktion misst, wie gut das Modell ist. Es ist wie eine Note in der Schule, die sagt, wie gut der Schüler auf einem Test abgeschnitten hat.\n",
    "\n",
    "Wenn du spezifische Fragen zu diesen Themen hast oder mehr Details zu bestimmten Konzepten benötigst, lass es mich wissen!\"\"\"\n",
    "\n",
    "# Translate\n",
    "translatedText = argostranslate.translate.translate(text, from_code, to_code)\n",
    "print(translatedText)"
   ]
  },
  {
   "cell_type": "code",
   "execution_count": 6,
   "id": "3c9af223325f845a",
   "metadata": {
    "ExecuteTime": {
     "end_time": "2023-11-08T06:41:23.058304400Z",
     "start_time": "2023-11-08T06:41:16.581227600Z"
    },
    "collapsed": false
   },
   "outputs": [
    {
     "name": "stdout",
     "output_type": "stream",
     "text": [
      "Natürlich möchte ich Ihnen dabei helfen, die Themen zu Machine Learning Basics und Deep Forward Networks zu verstehen. Beginnen wir mit den Grundlagen und arbeiten dann an den spezifischeren Konzepten der Deep Forward Networks.\n",
      "Maschinenlernen Grundlagen (Maschinenlernen Grundlagen)\n",
      "\n",
      "Machine Learning ist ein Bereich der künstlichen Intelligenz, der Computern die Fähigkeit gibt, zu lernen und zu verbessern, ohne explizit programmiert zu werden. Es basiert auf Algorithmen, die aus Daten lernen und Vorhersagen oder Entscheidungen treffen können.\n",
      "\n",
      "Daten: Im maschinellen Lernen verwenden wir Daten, um das Modell zu lehren, wie man Entscheidungen trifft. Daten können Bilder, Texte, Zahlen oder jede Art von Informationen sein, die das Modell zum Lernen verwenden kann.\n",
      "\n",
      "Algorithm: Ein Algorithmus ist eine Reihe von Regeln oder Anweisungen, die einem Computer sagen, wie ein Problem zu lösen. Im maschinellen Lernen ist ein Algorithmus wie ein Rezept, das dem Computer sagt, wie man aus den Daten lernt.\n",
      "\n",
      "Modell: Ein Modell im maschinellen Lernen ist wie ein Student, der aus den Daten lernt. Es nimmt die Informationen (Daten) und die Anweisungen (Algorithmus) und versucht, Muster oder Beziehungen zu identifizieren, um Vorhersagen zu machen.\n",
      "\n",
      "Training: Training ist der Prozess, in dem das Modell lernt. Wir geben ihm Beispiele (Daten), und es versucht, die Muster zu identifizieren. Je mehr Daten wir haben, desto besser kann das Modell lernen.\n",
      "\n",
      "Prognose: Nach dem Training kann das Modell neue Daten einnehmen und versuchen, Vorhersagen basierend darauf zu machen. Zum Beispiel, wenn wir ein Modell mit Bildern von Katzen und Hunden trainieren, kann es später ein neues Bild sehen und sagen, ob es eine Katze oder ein Hund ist.\n",
      "\n",
      "Deep Forward Networks (vertiefte Netzwerke)\n",
      "\n",
      "Deep Forward Networks, auch bekannt als Feedforward Neural Networks (vorwärts gerichtete neuronale Netzwerke), sind eine Art künstliche neuronale Netzwerke, in denen Informationen nur in eine Richtung fließen, von Eingang zu Ausgang.\n",
      "\n",
      "Neuronen: Diese Netzwerke bestehen aus Neuronen, die kleine Recheneinheiten sind. Jedes Neuron nimmt Eingänge, verarbeitet sie und gibt ein Ergebnis aus. Es ist wie ein kleiner Arbeiter, der einen Teil der Arbeit macht.\n",
      "\n",
      "Ebenen: Die Neuronen sind in Schichten organisiert. Die erste Schicht erfasst die Eingangsdaten, die mittleren Schichten verarbeiten die Daten weiter, und die letzte Schicht gibt die Vorhersage aus. Man kann sich das wie eine Fabrik vorstellen, in der jede Schicht eine Station ist, die einen Teil der Arbeit macht.\n",
      "\n",
      "Aktivierungsfunktion: Jedes Neuron hat eine Aktivierungsfunktion, die entscheidet, ob und wie stark es aktiviert ist, also ob es ein Signal sendet oder nicht. Das ist uns Menschen ähnlich, wenn wir entscheiden, ob wir auf etwas reagieren oder nicht.\n",
      "\n",
      "Gewichte: Jede Verbindung zwischen den Neuronen hat ein Gewicht, das bestimmt, wie stark der Eingang eines Neurons den Ausgang des nächsten Neurons beeinflusst. Dies ist wie das Volumen in einem Gespräch, je lauter jemand spricht, desto mehr beeinflusst es, wie gut wir es verstehen können.\n",
      "\n",
      "Bias: Eine Bias ist eine zusätzliche Eingabe für Neuronen, die hilft, die Ausgabe einzustellen. Das ist wie ein Grundlaut in einem Gespräch, auch wenn niemand etwas sagt, gibt es noch ein wenig Lärm.\n",
      "\n",
      "Zurückverbreitung: Dies ist eine Methode, um die Gewichte im Netzwerk anzupassen, so dass das Modell besser wird. Es ist, als würde ein Lehrer einem Schüler Feedback geben, damit er sich verbessern kann.\n",
      "\n",
      "Funktion verloren: Eine Verlustfunktion misst, wie gut das Modell ist. Es ist wie eine Notiz in der Schule, die sagt, wie gut der Schüler auf einem Test abgeschnitten hat.\n",
      "\n",
      "Wenn Sie konkrete Fragen zu diesen Themen haben oder mehr Details zu bestimmten Konzepten benötigen, lassen Sie mich wissen!\n"
     ]
    }
   ],
   "source": [
    "from_code = \"en\"\n",
    "to_code = \"de\"\n",
    "translatedText = argostranslate.translate.translate(translatedText, from_code, to_code)\n",
    "print(translatedText)"
   ]
  },
  {
   "cell_type": "code",
   "execution_count": null,
   "id": "ab235618bdb948cf",
   "metadata": {
    "collapsed": false
   },
   "outputs": [],
   "source": []
  }
 ],
 "metadata": {
  "kernelspec": {
   "display_name": "Python 3",
   "language": "python",
   "name": "python3"
  },
  "language_info": {
   "codemirror_mode": {
    "name": "ipython",
    "version": 2
   },
   "file_extension": ".py",
   "mimetype": "text/x-python",
   "name": "python",
   "nbconvert_exporter": "python",
   "pygments_lexer": "ipython2",
   "version": "2.7.6"
  }
 },
 "nbformat": 4,
 "nbformat_minor": 5
}
