{
 "cells": [
  {
   "cell_type": "code",
   "execution_count": null,
   "id": "42c4c803b95f896c",
   "metadata": {
    "collapsed": true
   },
   "outputs": [],
   "source": [
    "from diffusers import DiffusionPipeline\n",
    "from diffusers import DPMSolverMultistepScheduler\n",
    "from diffusers import UniPCMultistepScheduler\n",
    "import torch"
   ]
  },
  {
   "cell_type": "code",
   "execution_count": null,
   "outputs": [],
   "source": [
    "base = DiffusionPipeline.from_pretrained(\"stabilityai/stable-diffusion-xl-base-1.0\", torch_dtype=torch.float16, use_safetensors=True, variant=\"fp16\", device_map=\"auto\")\n",
    "#base.to(\"cuda\")"
   ],
   "metadata": {
    "collapsed": false
   },
   "id": "f9e565eafeb18a9b"
  },
  {
   "cell_type": "code",
   "execution_count": null,
   "outputs": [],
   "source": [
    "base.scheduler = UniPCMultistepScheduler.from_config(base.scheduler.config)"
   ],
   "metadata": {
    "collapsed": false
   },
   "id": "f7a8faa6f4bf4a49"
  },
  {
   "cell_type": "code",
   "execution_count": null,
   "outputs": [],
   "source": [
    "n_steps = 30\n",
    "high_noise_frac = 0.8\n",
    "prompt = \"a photo of an astronaut high resolution, unreal engine, ultra realistic\""
   ],
   "metadata": {
    "collapsed": false
   },
   "id": "82e1125daf54a798"
  },
  {
   "cell_type": "code",
   "execution_count": null,
   "outputs": [],
   "source": [
    "image = base(\n",
    "    prompt=prompt,\n",
    "    generator=torch.Generator(\"cuda\").manual_seed(0),\n",
    "    num_inference_steps=n_steps,\n",
    ").images[0]\n",
    "#image\n",
    "image.save(f'result.png')"
   ],
   "metadata": {
    "collapsed": false
   },
   "id": "b5611e8eb9e313a0"
  },
  {
   "cell_type": "code",
   "execution_count": null,
   "outputs": [],
   "source": [],
   "metadata": {
    "collapsed": false
   },
   "id": "e7d83c0c43e61189"
  }
 ],
 "metadata": {
  "kernelspec": {
   "display_name": "Python 3",
   "language": "python",
   "name": "python3"
  },
  "language_info": {
   "codemirror_mode": {
    "name": "ipython",
    "version": 2
   },
   "file_extension": ".py",
   "mimetype": "text/x-python",
   "name": "python",
   "nbconvert_exporter": "python",
   "pygments_lexer": "ipython2",
   "version": "2.7.6"
  }
 },
 "nbformat": 4,
 "nbformat_minor": 5
}
