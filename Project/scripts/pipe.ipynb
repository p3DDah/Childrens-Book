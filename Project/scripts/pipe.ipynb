{
 "cells": [
  {
   "cell_type": "code",
   "execution_count": null,
   "metadata": {},
   "outputs": [],
   "source": [
    "from init import init_LLM_PURE, init_LLM_STORY, init_SDXL, init_Translator, init_TTM\n",
    "from models import LLM_story, SDXL, TL, TTM\n",
    "from utils import ordinal"
   ]
  },
  {
   "cell_type": "code",
   "execution_count": null,
   "metadata": {},
   "outputs": [],
   "source": [
    "LLM_PURE_ = init_LLM_PURE()"
   ]
  },
  {
   "cell_type": "code",
   "execution_count": null,
   "metadata": {},
   "outputs": [],
   "source": [
    "SDXL_ = init_SDXL"
   ]
  },
  {
   "cell_type": "code",
   "execution_count": null,
   "metadata": {},
   "outputs": [],
   "source": [
    "language_dict = init_Translator"
   ]
  },
  {
   "cell_type": "code",
   "execution_count": null,
   "metadata": {},
   "outputs": [],
   "source": [
    "TTM_ = init_TTM"
   ]
  },
  {
   "cell_type": "code",
   "execution_count": null,
   "metadata": {},
   "outputs": [],
   "source": [
    "# def init_models():\n",
    "#     LLM_PURE_ = init_LLM_PURE()\n",
    "#     SDXL_ = init_SDXL\n",
    "#     language_dict = init_Translator\n",
    "#     TTM_ = init_TTM\n",
    "#     \n",
    "#     return LLM_PURE_, SDXL_, TTM_"
   ]
  },
  {
   "cell_type": "code",
   "execution_count": null,
   "metadata": {},
   "outputs": [],
   "source": [
    "def start_gen(Params, LLM_PURE_): # after configuration page, while reading the prolog\n",
    "    #update Params\n",
    "    keys_to_update = [\"title\", \"description\"]\n",
    "    for key in keys_to_update:\n",
    "        if key in Params:\n",
    "            Params[key] = TL(Params[key], from_code=Params[\"language\"])\n",
    "    \n",
    "    LLM_STORY_ = init_LLM_STORY(LLM_PURE_, Params)\n",
    "    \n",
    "    LLM_STORY_, chapter, text = LLM_story(LLM_STORY_, \"Write now only the 1st chapter!\", mode=\"story\") # type: ignore\n",
    "    LLM_STORY_, decisions = LLM_story(LLM_STORY_, f\"Create now {Params[\"num_decisions\"]} decisions how the story could continue.\", mode=\"decisions\") # type: ignore\n",
    "    \n",
    "    image_path = SDXL(SDXL_, LLM_PURE_, text, chap=1, decision=1)\n",
    "    sound_path = TTM(TTM_, LLM_PURE_, text, chap=1, decision=1)\n",
    "    \n",
    "    language = Params[\"language\"]\n",
    "    return LLM_STORY_, Params, TL(text, to_code=language), TL(chapter, to_code=language), TL(decisions, to_code=language), image_path, sound_path"
   ]
  },
  {
   "cell_type": "code",
   "execution_count": null,
   "metadata": {},
   "outputs": [],
   "source": [
    "def next_gen(Params, LLM_STORY_, LLM_PURE_, chap_num, decision):\n",
    "    LLM_STORY_, chapter, text = LLM_story(LLM_STORY_, f\"Write now the {ordinal(chap_num)} chapter of {params[\"NUM_CHAPTERS\"]} with using decision {decision}.\", mode=\"story\") # type: ignore\n",
    "    LLM_STORY_, decisions = LLM_story(LLM_STORY_, f\"Create now {Params[\"num_decisions\"]} decisions how the story could continue.\", mode=\"decisions\") # type: ignore\n",
    "    \n",
    "    image_path = SDXL(SDXL_, LLM_PURE_, text, chap_num, decision)\n",
    "    sound_path = TTM(TTM_, LLM_PURE_, text, chap_num, decision)\n",
    "    \n",
    "    language = Params[\"language\"]\n",
    "    return LLM_STORY_, TL(text, to_code=language), TL(chapter, to_code=language), TL(decisions, to_code=language), image_path, sound_path"
   ]
  }
 ],
 "metadata": {
  "language_info": {
   "name": "python"
  }
 },
 "nbformat": 4,
 "nbformat_minor": 2
}
